{
 "cells": [
  {
   "cell_type": "markdown",
   "metadata": {},
   "source": [
    "## Sorting Algorithms"
   ]
  },
  {
   "cell_type": "markdown",
   "metadata": {},
   "source": [
    "### Merge Sort"
   ]
  },
  {
   "cell_type": "code",
   "execution_count": 1,
   "metadata": {},
   "outputs": [
    {
     "name": "stdout",
     "output_type": "stream",
     "text": [
      "[1, 2, 3, 4, 6, 8]\n"
     ]
    }
   ],
   "source": [
    "def merge(arr, start, mid, end):\n",
    "    left= start\n",
    "    right= mid+1\n",
    "\n",
    "    temp = []\n",
    "\n",
    "    while left<=mid and right<=end:\n",
    "        if arr[left]<=arr[right]:\n",
    "            temp.append(arr[left])\n",
    "            left+=1\n",
    "        else:\n",
    "            temp.append(arr[right])\n",
    "            right+=1\n",
    "\n",
    "    while left<=mid:\n",
    "        temp.append(arr[left])\n",
    "        left+=1\n",
    "    \n",
    "    while right<=end:\n",
    "        temp.append(arr[right])\n",
    "        right+=1\n",
    "\n",
    "    for i in range(start,end+1):\n",
    "        arr[i]= temp[i-start]\n",
    "\n",
    "def mergesort(arr, start, end):\n",
    "    if start>=end:\n",
    "        return\n",
    "    \n",
    "    mid=(start + end)//2\n",
    "\n",
    "    mergesort(arr,start,mid)\n",
    "    mergesort(arr,mid+1,end)\n",
    "    merge(arr,start,mid,end)\n",
    "\n",
    "\n",
    "arr = [2, 1, 3, 8, 4, 6]\n",
    "mergesort(arr,0,5)\n",
    "print(arr)\n",
    "\n",
    "# Time Complexity = O(NlogN) , Space Complexity = O(N)\n"
   ]
  },
  {
   "cell_type": "markdown",
   "metadata": {},
   "source": [
    "### Quick Sort"
   ]
  },
  {
   "cell_type": "code",
   "execution_count": null,
   "metadata": {},
   "outputs": [],
   "source": [
    "def getpartition(arr, start, end):\n",
    "    pivot = arr[start]\n",
    "    i = start + 1\n",
    "    j = end\n",
    "\n",
    "    while True:\n",
    "        while i <= j and arr[i] <= pivot:\n",
    "            i += 1\n",
    "        while i <= j and arr[j] > pivot:\n",
    "            j -= 1\n",
    "\n",
    "        if i <= j:\n",
    "            arr[i], arr[j] = arr[j], arr[i]\n",
    "        else:\n",
    "            break\n",
    "\n",
    "    arr[start], arr[j] = arr[j], arr[start]\n",
    "    return j\n",
    "\n",
    "\n",
    "def quicksort(arr, start, end):\n",
    "    if start < end:\n",
    "        partition = getpartition(arr, start, end)\n",
    "        quicksort(arr, start, partition - 1)\n",
    "        quicksort(arr, partition + 1, end)\n",
    "\n",
    "\n",
    "arr = [2, 1, 3, 8, 4, 6]\n",
    "quicksort(arr, 0, len(arr) - 1)\n",
    "print(arr)"
   ]
  }
 ],
 "metadata": {
  "kernelspec": {
   "display_name": "venv",
   "language": "python",
   "name": "python3"
  },
  "language_info": {
   "codemirror_mode": {
    "name": "ipython",
    "version": 3
   },
   "file_extension": ".py",
   "mimetype": "text/x-python",
   "name": "python",
   "nbconvert_exporter": "python",
   "pygments_lexer": "ipython3",
   "version": "3.13.1"
  }
 },
 "nbformat": 4,
 "nbformat_minor": 2
}
