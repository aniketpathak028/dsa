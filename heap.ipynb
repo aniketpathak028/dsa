{
 "cells": [
  {
   "cell_type": "markdown",
   "id": "9d11e4ad",
   "metadata": {},
   "source": [
    "## Heap"
   ]
  },
  {
   "cell_type": "code",
   "execution_count": null,
   "id": "597f9359",
   "metadata": {},
   "outputs": [],
   "source": [
    "# kth Largest element in the array\n",
    "\n",
    "# approach-1: sorting, Time Complexity: O(n log n), Space Complexity: O(1)\n",
    "# approach-2: using a min-heap, Time Complexity: O(n log k), Space Complexity: O(k)\n",
    "import heapq\n",
    "def findKthLargest(nums, k):\n",
    "    heap= []\n",
    "    for i in range(len(nums)):\n",
    "        heapq.heappush(heap, nums[i])\n",
    "    while len(heap)>k:\n",
    "        heapq.heappop(heap)\n",
    "    return heapq.heappop(heap)\n",
    "\n",
    "# Time Complexity: O(n log k)\n",
    "# Space Complexity: O(k)"
   ]
  },
  {
   "cell_type": "code",
   "execution_count": null,
   "id": "dd693110",
   "metadata": {},
   "outputs": [],
   "source": [
    "# kth Smallest element in the array\n",
    "\n",
    "def kthSmallest(arr,k):\n",
    "    heap= []\n",
    "    for i in range(len(arr)):\n",
    "        heapq.heappush(heap, -arr[i])\n",
    "    while len(heap)>k:\n",
    "        heapq.heappop(heap)\n",
    "    return -heapq.heappop(heap)"
   ]
  },
  {
   "cell_type": "code",
   "execution_count": null,
   "id": "6f6d4c12",
   "metadata": {},
   "outputs": [],
   "source": [
    "# top k frequent elements in an array\n",
    "\n",
    "from collections import defaultdict\n",
    "import heapq\n",
    "def topKFrequent(nums, k):\n",
    "    n= len(nums)\n",
    "    heap= []\n",
    "    mpp= defaultdict(int)\n",
    "    for i in range(n):\n",
    "        mpp[nums[i]]+=1\n",
    "    for num, freq in mpp.items():\n",
    "        heapq.heappush(heap,(freq, num))\n",
    "    while len(heap)>k:\n",
    "        heapq.heappop(heap)\n",
    "    ans= []\n",
    "    while len(heap):\n",
    "        ans.append(heapq.heappop(heap)[1])\n",
    "    return ans\n",
    "\n",
    "# Time Complexity: O(n log k)\n",
    "# Space Complexity: O(n)"
   ]
  },
  {
   "cell_type": "code",
   "execution_count": null,
   "id": "768a5458",
   "metadata": {},
   "outputs": [],
   "source": [
    "# merge k sorted linked lists\n",
    "\n",
    "class ListNode:\n",
    "    def __init__(self, val=0, next=None):\n",
    "        self.val = val\n",
    "        self.next = next\n",
    "\n",
    "from typing import List, Optional\n",
    "import heapq\n",
    "def mergeKLists(lists: List[Optional[ListNode]]) -> Optional[ListNode]:\n",
    "    heap= []\n",
    "    k= len(lists)\n",
    "    for i in range(k):\n",
    "        node= lists[i]\n",
    "        if node:\n",
    "            heapq.heappush(heap, (node.val, id(node), node))\n",
    "    dummyNode = ListNode()\n",
    "    temp= dummyNode\n",
    "    while len(heap):\n",
    "        _, _, second= heapq.heappop(heap)\n",
    "        temp.next= second\n",
    "        temp= temp.next\n",
    "        if second.next:\n",
    "            heapq.heappush(heap, (second.next.val, id(second.next), second.next))\n",
    "    return dummyNode.next\n",
    "\n",
    "# Time Complexity: O(n log k)\n",
    "# Space Complexity: O(k)\n",
    "# where n is the total number of nodes in all linked lists and k is the number of linked lists"
   ]
  },
  {
   "cell_type": "code",
   "execution_count": null,
   "id": "bc095b24",
   "metadata": {},
   "outputs": [],
   "source": [
    "# task scheduler\n",
    "\n",
    "from collections import Counter, deque\n",
    "import heapq\n",
    "def leastInterval(tasks, n):\n",
    "    counter= Counter(tasks)\n",
    "    maxHeap= [-cnt for cnt in counter.values()]\n",
    "    heapq.heapify(maxHeap)\n",
    "    q= deque()\n",
    "    time= 0\n",
    "    while maxHeap or q:\n",
    "        time+=1\n",
    "        if maxHeap:\n",
    "            cnt= heapq.heappop(maxHeap) + 1\n",
    "            if cnt:\n",
    "                q.append((cnt, time+n))\n",
    "        if q and q[0][1]==time:\n",
    "            heapq.heappush(maxHeap, q.popleft()[0])\n",
    "    return time\n",
    "\n",
    "# Time Complexity: O(n log n)\n",
    "# Space Complexity: O(n)"
   ]
  },
  {
   "cell_type": "code",
   "execution_count": null,
   "id": "a8a5b718",
   "metadata": {},
   "outputs": [],
   "source": [
    "# kth largest element in a stream\n",
    "import heapq\n",
    "class KthLargest:\n",
    "    def __init__(self, k: int, nums: List[int]):\n",
    "        self.k = k\n",
    "        self.minHeap = []\n",
    "        for num in nums:\n",
    "            heapq.heappush(self.minHeap, num)\n",
    "            if len(self.minHeap) > k:\n",
    "                heapq.heappop(self.minHeap)\n",
    "\n",
    "    def add(self, val: int) -> int:\n",
    "        heapq.heappush(self.minHeap, val)\n",
    "        if len(self.minHeap) > self.k:\n",
    "            heapq.heappop(self.minHeap)\n",
    "        return self.minHeap[0]"
   ]
  }
 ],
 "metadata": {
  "kernelspec": {
   "display_name": "venv",
   "language": "python",
   "name": "python3"
  },
  "language_info": {
   "name": "python",
   "version": "3.12.3"
  }
 },
 "nbformat": 4,
 "nbformat_minor": 5
}
