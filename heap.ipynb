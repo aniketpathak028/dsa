{
 "cells": [
  {
   "cell_type": "markdown",
   "id": "9d11e4ad",
   "metadata": {},
   "source": [
    "## Heap"
   ]
  },
  {
   "cell_type": "code",
   "execution_count": null,
   "id": "597f9359",
   "metadata": {},
   "outputs": [],
   "source": [
    "# kth Largest element in the array\n",
    "\n",
    "# approach-1: sorting, Time Complexity: O(n log n), Space Complexity: O(1)\n",
    "# approach-2: using a min-heap, Time Complexity: O(n log k), Space Complexity: O(k)\n",
    "import heapq\n",
    "def findKthLargest(nums, k):\n",
    "    heap= []\n",
    "    for i in range(len(nums)):\n",
    "        heapq.heappush(heap, nums[i])\n",
    "    while len(heap)>k:\n",
    "        heapq.heappop(heap)\n",
    "    return heapq.heappop(heap)\n",
    "\n",
    "# Time Complexity: O(n log k)\n",
    "# Space Complexity: O(k)"
   ]
  },
  {
   "cell_type": "code",
   "execution_count": null,
   "id": "dd693110",
   "metadata": {},
   "outputs": [],
   "source": [
    "# kth Smallest element in the array\n",
    "\n",
    "def kthSmallest(arr,k):\n",
    "    heap= []\n",
    "    for i in range(len(arr)):\n",
    "        heapq.heappush(heap, -arr[i])\n",
    "    while len(heap)>k:\n",
    "        heapq.heappop(heap)\n",
    "    return -heapq.heappop(heap)"
   ]
  },
  {
   "cell_type": "code",
   "execution_count": null,
   "id": "6f6d4c12",
   "metadata": {},
   "outputs": [],
   "source": [
    "# top k frequent elements in an array\n",
    "\n",
    "from collections import defaultdict\n",
    "import heapq\n",
    "def topKFrequent(nums, k):\n",
    "    n= len(nums)\n",
    "    heap= []\n",
    "    mpp= defaultdict(int)\n",
    "    for i in range(n):\n",
    "        mpp[nums[i]]+=1\n",
    "    for num, freq in mpp.items():\n",
    "        heapq.heappush(heap,(freq, num))\n",
    "    while len(heap)>k:\n",
    "        heapq.heappop(heap)\n",
    "    ans= []\n",
    "    while len(heap):\n",
    "        ans.append(heapq.heappop(heap)[1])\n",
    "    return ans\n",
    "\n",
    "# Time Complexity: O(n log k)\n",
    "# Space Complexity: O(n)"
   ]
  }
 ],
 "metadata": {
  "kernelspec": {
   "display_name": "venv",
   "language": "python",
   "name": "python3"
  },
  "language_info": {
   "name": "python",
   "version": "3.12.3"
  }
 },
 "nbformat": 4,
 "nbformat_minor": 5
}
