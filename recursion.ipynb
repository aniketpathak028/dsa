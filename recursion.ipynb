{
 "cells": [
  {
   "cell_type": "markdown",
   "metadata": {},
   "source": [
    "## Recursion"
   ]
  },
  {
   "cell_type": "markdown",
   "metadata": {},
   "source": [
    "**What is recursion?**\n",
    "\n",
    "→ When a function calls itself until a specified condition is met, it is known as recursion."
   ]
  },
  {
   "cell_type": "code",
   "execution_count": null,
   "metadata": {},
   "outputs": [],
   "source": [
    "# infinite recursion - runs until stack overflow, when there is no base condition\n",
    "# The unexecuted functions are stored in the stack memory, and when an infinite recursion is called\n",
    "# the stack space is extinguished which is known as stack overflow! ex-\n",
    "\n",
    "def fn():\n",
    "\tprint(1)\n",
    "\tfn()\n",
    "\t\n",
    "fn()"
   ]
  },
  {
   "cell_type": "markdown",
   "metadata": {},
   "source": [
    "### Basic Recursion Problems (1D)"
   ]
  },
  {
   "cell_type": "code",
   "execution_count": null,
   "metadata": {},
   "outputs": [
    {
     "name": "stdout",
     "output_type": "stream",
     "text": [
      "aniket\n",
      "aniket\n",
      "aniket\n",
      "aniket\n",
      "aniket\n"
     ]
    }
   ],
   "source": [
    "# Print your name n times using recursion \n",
    "\n",
    "def print_name(i,n):\n",
    "\tif i>n:\n",
    "\t\treturn\n",
    "\tprint(\"aniket\")\n",
    "\tprint_name(i+1,n)\n",
    "\t\n",
    "n = int(input(\"enter the value of n\"))\n",
    "print_name(1,n)\n",
    "\n",
    "# Time Complexity = O(n) and Space Complexity = O(n)"
   ]
  },
  {
   "cell_type": "code",
   "execution_count": null,
   "metadata": {},
   "outputs": [
    {
     "name": "stdout",
     "output_type": "stream",
     "text": [
      "5\n",
      "4\n",
      "3\n",
      "2\n",
      "1\n"
     ]
    }
   ],
   "source": [
    "# Print numbers from n → 1\n",
    "\n",
    "def print_num(i):\n",
    "\tif i<1:\n",
    "\t\treturn\n",
    "\tprint(i)\n",
    "\tprint_num(i-1)\n",
    "\n",
    "\n",
    "n = int(input(\"enter the value of n\"))\n",
    "print_num(n)"
   ]
  },
  {
   "cell_type": "code",
   "execution_count": null,
   "metadata": {},
   "outputs": [
    {
     "name": "stdout",
     "output_type": "stream",
     "text": [
      "1\n",
      "2\n",
      "3\n",
      "4\n",
      "5\n"
     ]
    }
   ],
   "source": [
    "# Print numbers from 1 → n (backtracking concept)\n",
    "\n",
    "def print_num(i):\n",
    "\tif i<1:\n",
    "\t\treturn\n",
    "\tprint_num(i-1)\n",
    "\tprint(i)  # notice the difference from above code\n",
    "\t\n",
    "n = int(input(\"enter the value of n\"))\n",
    "print_num(n)\n",
    "\n",
    "# When we do an operation after a fn call in recursion, it executes for the last call first known as backtracking!"
   ]
  },
  {
   "cell_type": "code",
   "execution_count": null,
   "metadata": {},
   "outputs": [
    {
     "name": "stdout",
     "output_type": "stream",
     "text": [
      "5\n",
      "4\n",
      "3\n",
      "2\n",
      "1\n"
     ]
    }
   ],
   "source": [
    "# Print numbers from n → 1 using backtracking\n",
    "\n",
    "def print_num(i,n):\n",
    "\tif i>n:\n",
    "\t\treturn\n",
    "\tprint_num(i+1,n)\n",
    "\tprint(i)\n",
    "\t\n",
    "n = int(input(\"enter the value of n\"))\n",
    "print_num(1,n)"
   ]
  },
  {
   "cell_type": "markdown",
   "metadata": {},
   "source": [
    "### Parameterized and Functional Recursion"
   ]
  },
  {
   "cell_type": "code",
   "execution_count": null,
   "metadata": {},
   "outputs": [
    {
     "name": "stdout",
     "output_type": "stream",
     "text": [
      "15\n"
     ]
    }
   ],
   "source": [
    "# Summation of numbers from 1 → n (parameterized recursion)\n",
    "\n",
    "def print_sum(n,sum):\n",
    "\tif n==0:\n",
    "\t\tprint(sum)\n",
    "\t\treturn\n",
    "\tprint_sum(n-1,sum+n)\n",
    "\t\n",
    "\t\n",
    "n = int(input(\"enter the value of n\"))\n",
    "print_sum(n,0)"
   ]
  },
  {
   "cell_type": "code",
   "execution_count": null,
   "metadata": {},
   "outputs": [
    {
     "name": "stdout",
     "output_type": "stream",
     "text": [
      "15\n"
     ]
    }
   ],
   "source": [
    "# Summation of numbers from 1 → n (functional recursion)\n",
    "\n",
    "def print_sum(n):\n",
    "\tif n==0:\n",
    "\t\treturn 0\n",
    "\treturn n + print_sum(n-1)\n",
    "\t\n",
    "n = int(input(\"enter the value of n\"))\n",
    "print(print_sum(n))"
   ]
  },
  {
   "cell_type": "code",
   "execution_count": null,
   "metadata": {},
   "outputs": [
    {
     "name": "stdout",
     "output_type": "stream",
     "text": [
      "reversed array: [5, 1, 4, 2, 3]\n"
     ]
    }
   ],
   "source": [
    "# Reverse an array using recursion - parameterized\n",
    "\n",
    "def rev(arr, i):\n",
    "    size = len(arr)\n",
    "    if i >= size // 2:\n",
    "        return\n",
    "    arr[i], arr[size - i - 1] = arr[size - i - 1], arr[i]\n",
    "    rev(arr, i + 1)\n",
    "\n",
    "arr= [3, 2, 4, 1, 5]\n",
    "rev(arr, 0)\n",
    "print(\"reversed array:\", arr)\n"
   ]
  },
  {
   "cell_type": "code",
   "execution_count": null,
   "metadata": {},
   "outputs": [
    {
     "name": "stdout",
     "output_type": "stream",
     "text": [
      "False\n"
     ]
    }
   ],
   "source": [
    "# Check if a given string is palindome or not? - functional\n",
    "\n",
    "def check(str, i):\n",
    "    size = len(str)\n",
    "    if i>= size//2:\n",
    "        return True\n",
    "    elif str[i]==str[size-i-1]:\n",
    "        return check(str,i+1)\n",
    "    else:\n",
    "        return False\n",
    "\n",
    "str = input(\"enter the string\")\n",
    "print(check(str,0))"
   ]
  },
  {
   "cell_type": "markdown",
   "metadata": {},
   "source": [
    "### Recursion Mindset"
   ]
  },
  {
   "cell_type": "code",
   "execution_count": null,
   "metadata": {},
   "outputs": [
    {
     "name": "stdout",
     "output_type": "stream",
     "text": [
      "[1, 2, 3, 4, 11, 21]\n"
     ]
    }
   ],
   "source": [
    "# sort an array using recursion\n",
    "\n",
    "def sort(arr, i):\n",
    "    if i==len(arr)-1:\n",
    "        return\n",
    "\n",
    "    # sort the array for i+1 -> len(arr)\n",
    "    sort(arr, i+1)\n",
    "\n",
    "    # insert this element in the correct position in the sorted array and remove its old index\n",
    "    curr= arr[i]\n",
    "    j= i+1\n",
    "    while j<len(arr) and arr[j]<curr:\n",
    "        arr[j-1]= arr[j]\n",
    "        j+=1\n",
    "    arr[j-1]= curr\n",
    "\n",
    "arr= [3, 2, 4, 1, 11, 21]\n",
    "sort(arr, 0)\n",
    "print(arr)"
   ]
  },
  {
   "cell_type": "code",
   "execution_count": null,
   "metadata": {},
   "outputs": [
    {
     "name": "stdout",
     "output_type": "stream",
     "text": [
      "[1, 2, 3, 11, 41]\n"
     ]
    }
   ],
   "source": [
    "# sort a stack using recursion\n",
    "\n",
    "def insert(st, num):\n",
    "    if len(st)==0:\n",
    "        st.append(num)\n",
    "        return\n",
    "    \n",
    "    top= st.pop()\n",
    "    if top>num:\n",
    "        insert(st, num)\n",
    "        st.append(top)\n",
    "    else:\n",
    "        st.append(top)\n",
    "        st.append(num)\n",
    "\n",
    "\n",
    "\n",
    "def sort(st):\n",
    "    if len(st)==1:\n",
    "        return\n",
    "    \n",
    "    top= st.pop()\n",
    "    # sort the stack for the remaining elements except top\n",
    "    sort(st)\n",
    "\n",
    "    # insert top in the correct position in the sorted stack\n",
    "    insert(st, top)\n",
    "\n",
    "st= [2, 3, 1, 11, 41]\n",
    "sort(st)\n",
    "print(st)"
   ]
  },
  {
   "cell_type": "code",
   "execution_count": 8,
   "metadata": {},
   "outputs": [
    {
     "name": "stdout",
     "output_type": "stream",
     "text": [
      "[5, 4, 3, 2, 1]\n"
     ]
    }
   ],
   "source": [
    "# reverse a stack using recursion\n",
    "\n",
    "def insertTop(st, num):\n",
    "    if not st:\n",
    "        st.append(num)\n",
    "        return\n",
    "    \n",
    "    top= st.pop()\n",
    "    insertTop(st, num)\n",
    "    st.append(top)\n",
    "\n",
    "def reverse(st):\n",
    "    if len(st)==1:\n",
    "        return\n",
    "\n",
    "    top= st.pop()\n",
    "    # reverse the stack for the remaining elements except top\n",
    "    reverse(st)\n",
    "\n",
    "    insertTop(st, top)\n",
    "\n",
    "st= [1, 2, 3, 4, 5]\n",
    "reverse(st)\n",
    "print(st)"
   ]
  },
  {
   "cell_type": "code",
   "execution_count": 8,
   "metadata": {},
   "outputs": [
    {
     "name": "stdout",
     "output_type": "stream",
     "text": [
      "1024\n"
     ]
    }
   ],
   "source": [
    "# fast exponentiation (find pow(x,n))\n",
    "\n",
    "def exp(x, n):\n",
    "    powr= n if n>0 else -n\n",
    "    val= x\n",
    "    ans= 1\n",
    "    while powr>0:\n",
    "        if powr%2==0:\n",
    "            val*= val\n",
    "            powr/=2\n",
    "        else:\n",
    "            ans*= val\n",
    "            powr-= 1\n",
    "    return ans\n",
    "\n",
    "print(exp(2, 10))"
   ]
  },
  {
   "cell_type": "code",
   "execution_count": 10,
   "metadata": {},
   "outputs": [
    {
     "name": "stdout",
     "output_type": "stream",
     "text": [
      "['((()))', '(()())', '(())()', '()(())', '()()()']\n"
     ]
    }
   ],
   "source": [
    "# Generate Parentheses\n",
    "\n",
    "def gen(n, comb, ans):\n",
    "    if len(comb)==2*n:\n",
    "        ans.append(comb)\n",
    "        return\n",
    "    \n",
    "    # can we use \"(\" ?\n",
    "    if comb.count(\"(\")<n:\n",
    "        gen(n, comb+\"(\", ans)\n",
    "\n",
    "    # can we use \")\" ?\n",
    "    if comb.count(\"(\") > comb.count(\")\"):\n",
    "        gen(n, comb+\")\", ans)\n",
    "\n",
    "ans= []\n",
    "gen(3, \"\", ans)\n",
    "print(ans)"
   ]
  },
  {
   "cell_type": "markdown",
   "metadata": {},
   "source": [
    "### Multiple Recursion Calls"
   ]
  },
  {
   "cell_type": "code",
   "execution_count": null,
   "metadata": {},
   "outputs": [
    {
     "name": "stdout",
     "output_type": "stream",
     "text": [
      "5\n"
     ]
    }
   ],
   "source": [
    "# Print nth Fibonacci Number\n",
    " \n",
    "def fib(i):\n",
    "    if i<=1:\n",
    "        return i\n",
    "    else:\n",
    "        return fib(i-1) + fib(i-2)\n",
    "    \n",
    "n = int(input(\"enter fibonacci index\"))\n",
    "print(fib(n))"
   ]
  },
  {
   "cell_type": "code",
   "execution_count": 2,
   "metadata": {},
   "outputs": [
    {
     "name": "stdout",
     "output_type": "stream",
     "text": [
      "[0, 1, 1, 2, 3, 5]\n"
     ]
    }
   ],
   "source": [
    "# Print all fibonacci numbers till a given index n\n",
    "\n",
    "n = int(input(\"enter the index\"))\n",
    "fib = []\n",
    "for i in range(n+1):\n",
    "    if i<=1:\n",
    "        fib.append(i)\n",
    "    else:\n",
    "        fib.append(fib[i-1]+fib[i-2])\n",
    "\n",
    "print(fib)"
   ]
  },
  {
   "cell_type": "markdown",
   "metadata": {},
   "source": [
    "### Recursion on Subsequences"
   ]
  },
  {
   "cell_type": "markdown",
   "metadata": {},
   "source": [
    "#### What is a Subsequence?\n",
    "\n",
    "A subsequence is a sequence derived by deleting some or no elements from the original array without changing the order.\n",
    "\n",
    "🔹 Elements may not be contiguous but must appear in the same relative order.\n",
    "\n",
    "Example\n",
    "\n",
    "Given array: [1, 2, 3]\n",
    "\n",
    "✅ Valid Subsequences:\n",
    "\n",
    "    [1, 2]\n",
    "    [1, 3]\n",
    "    [2, 3]\n",
    "    [1, 2, 3] (the full array itself)\n",
    "    [ ] (empty subsequence)\n",
    "\n",
    "⛔ Invalid: [3, 1] (order changed)\n",
    "\n",
    "🔹 Number of Subsequences: 2^n (Each element has 2 choices: include or exclude)"
   ]
  },
  {
   "cell_type": "markdown",
   "metadata": {},
   "source": [
    "#### What is a Subarray?\n",
    "\n",
    "Subarray\n",
    "\n",
    "A subarray is a contiguous part of an array.\n",
    "\n",
    "🔹 Elements must be contiguous (no skipping allowed).\n",
    "\n",
    "Example\n",
    "\n",
    "📌 Given array: [1, 2, 3]\n",
    "\n",
    "✅ Valid Subarrays:\n",
    "\n",
    "    [1]\n",
    "    [2]\n",
    "    [3]\n",
    "    [1, 2]\n",
    "    [2, 3]\n",
    "    [1, 2, 3]\n",
    "\n",
    "⛔ Invalid: [1, 3] (not contiguous)\n",
    "\n",
    "🔹 Number of Subarrays: n * (n + 1) / 2 (all possible start-end pairs)"
   ]
  },
  {
   "cell_type": "code",
   "execution_count": null,
   "metadata": {},
   "outputs": [
    {
     "name": "stdout",
     "output_type": "stream",
     "text": [
      "[2, 1, 5]\n",
      "[2, 1]\n",
      "[2, 5]\n",
      "[2]\n",
      "[1, 5]\n",
      "[1]\n",
      "[5]\n",
      "[]\n"
     ]
    }
   ],
   "source": [
    "# Print all subsequences\n",
    "\n",
    "def print_sub(i, sub, arr):\n",
    "    if i==len(arr):\n",
    "        print(sub)\n",
    "        return\n",
    "    \n",
    "    # pick the current element\n",
    "    sub.append(arr[i])\n",
    "    print_sub(i+1,sub,arr)\n",
    "\n",
    "    # not pick the current element\n",
    "    sub.pop()\n",
    "    print_sub(i+1,sub,arr)\n",
    "\n",
    "\n",
    "arr = [2, 1, 5]\n",
    "print_sub(0, [], arr)\n",
    "\n",
    "# Time Complexity = O(2^n) and Space Complexity = O(n)"
   ]
  },
  {
   "cell_type": "code",
   "execution_count": null,
   "metadata": {},
   "outputs": [
    {
     "name": "stdout",
     "output_type": "stream",
     "text": [
      "[2, 3]\n",
      "[5]\n"
     ]
    }
   ],
   "source": [
    "# Print all subsequences whose sum is k\n",
    "\n",
    "def print_sub(i, sub, arr, sum, k):\n",
    "    # if sum is hit\n",
    "    if sum==k:\n",
    "        print(sub)\n",
    "        return\n",
    "    \n",
    "    # if elements are over\n",
    "    if i==len(arr):\n",
    "        return\n",
    "    \n",
    "    # pick the current element\n",
    "    if sum+arr[i]<=k:\n",
    "        sub.append(arr[i])\n",
    "        print_sub(i+1,sub,arr,sum+arr[i],k)\n",
    "        sub.pop()\n",
    "    \n",
    "    # not pick the current element\n",
    "    print_sub(i+1,sub,arr,sum,k)\n",
    "\n",
    "arr = [1, 2, 5, 3]\n",
    "print_sub(0, [], arr, 0, 5)"
   ]
  },
  {
   "cell_type": "code",
   "execution_count": null,
   "metadata": {},
   "outputs": [
    {
     "name": "stdout",
     "output_type": "stream",
     "text": [
      "[2, 3]\n"
     ]
    },
    {
     "data": {
      "text/plain": [
       "True"
      ]
     },
     "execution_count": 5,
     "metadata": {},
     "output_type": "execute_result"
    }
   ],
   "source": [
    "# Print one subsequence whose sum is k\n",
    "\n",
    "def print_sub(i, sub, arr, sum, k):\n",
    "    # if sum is hit\n",
    "    if sum==k:\n",
    "        print(sub)\n",
    "        return True\n",
    "    \n",
    "    # if elements are over\n",
    "    if i==len(arr):\n",
    "        return False\n",
    "    \n",
    "    # pick the current element\n",
    "    if sum+arr[i]<=k:\n",
    "        sub.append(arr[i])\n",
    "        if print_sub(i+1,sub,arr,sum+arr[i],k):\n",
    "            return True\n",
    "        sub.pop()\n",
    "    \n",
    "    # not pick the current element\n",
    "    return print_sub(i+1,sub,arr,sum,k)\n",
    "\n",
    "arr = [1, 2, 5, 3]\n",
    "print_sub(0, [], arr, 0, 5)"
   ]
  },
  {
   "cell_type": "markdown",
   "metadata": {},
   "source": [
    "#### Note:\n",
    "\n",
    "- Whenever we have to print / return a single item we return True / False\n",
    "- Whenever we have to return a count, return 0 or 1"
   ]
  },
  {
   "cell_type": "code",
   "execution_count": null,
   "metadata": {},
   "outputs": [
    {
     "name": "stdout",
     "output_type": "stream",
     "text": [
      "15504\n"
     ]
    }
   ],
   "source": [
    "# Print count of subsequence whose sum is k\n",
    "\n",
    "def count(i, arr, sum, k):\n",
    "    if sum == k:\n",
    "        return 1\n",
    "    if i == len(arr):\n",
    "        return 0\n",
    "\n",
    "    # Pick the current element\n",
    "    pick = 0\n",
    "    if sum + arr[i] <= k:\n",
    "        pick = count(i + 1, arr, sum + arr[i], k)\n",
    "\n",
    "    # Not pick the current element\n",
    "    not_pick = count(i + 1, arr, sum, k)\n",
    "\n",
    "    return pick + not_pick\n",
    "\n",
    "arr = [1] * 20\n",
    "print(count(0, arr, 0, 5))"
   ]
  },
  {
   "cell_type": "code",
   "execution_count": null,
   "metadata": {},
   "outputs": [
    {
     "name": "stdout",
     "output_type": "stream",
     "text": [
      "[1, 2, 3, 4, 6, 8]\n"
     ]
    }
   ],
   "source": [
    "# Merge Sort\n",
    "\n",
    "def merge(arr, start, mid, end):\n",
    "    left= start\n",
    "    right= mid+1\n",
    "\n",
    "    temp = []\n",
    "\n",
    "    while left<=mid and right<=end:\n",
    "        if arr[left]<=arr[right]:\n",
    "            temp.append(arr[left])\n",
    "            left+=1\n",
    "        else:\n",
    "            temp.append(arr[right])\n",
    "            right+=1\n",
    "\n",
    "    while left<=mid:\n",
    "        temp.append(arr[left])\n",
    "        left+=1\n",
    "    \n",
    "    while right<=end:\n",
    "        temp.append(arr[right])\n",
    "        right+=1\n",
    "\n",
    "    for i in range(start,end+1):\n",
    "        arr[i]= temp[i-start]\n",
    "\n",
    "def mergesort(arr, start, end):\n",
    "    if start<end:\n",
    "        mid=(start + end)//2\n",
    "        mergesort(arr,start,mid)\n",
    "        mergesort(arr,mid+1,end)\n",
    "        merge(arr,start,mid,end)\n",
    "\n",
    "\n",
    "arr = [2, 1, 3, 8, 4, 6]\n",
    "mergesort(arr, 0, 5)\n",
    "print(arr)\n",
    "\n",
    "# Time Complexity = O(NlogN) , Space Complexity = O(N)"
   ]
  },
  {
   "cell_type": "code",
   "execution_count": null,
   "metadata": {},
   "outputs": [
    {
     "name": "stdout",
     "output_type": "stream",
     "text": [
      "[1, 2, 3, 4, 6, 8]\n"
     ]
    }
   ],
   "source": [
    "# Quick Sort\n",
    "\n",
    "def getpartition(arr, start, end):\n",
    "    pivot = arr[start]\n",
    "    i = start + 1\n",
    "    j = end\n",
    "\n",
    "    while True:\n",
    "        while i <= j and arr[i] <= pivot:\n",
    "            i += 1\n",
    "        while i <= j and arr[j] > pivot:\n",
    "            j -= 1\n",
    "\n",
    "        if i <= j:\n",
    "            arr[i], arr[j] = arr[j], arr[i]\n",
    "        else:\n",
    "            break\n",
    "\n",
    "    arr[start], arr[j] = arr[j], arr[start]\n",
    "    return j\n",
    "\n",
    "\n",
    "def quicksort(arr, start, end):\n",
    "    if start < end:\n",
    "        # keep the partition in its sorted pos\n",
    "        partition = getpartition(arr, start, end) \n",
    "        quicksort(arr, start, partition - 1)\n",
    "        quicksort(arr, partition + 1, end)\n",
    "\n",
    "arr = [2, 1, 3, 8, 4, 6]\n",
    "quicksort(arr, 0, len(arr) - 1)\n",
    "print(arr)\n",
    "\n",
    "# Time Complexity = O(NlogN) , Space Complexity = O(1)"
   ]
  },
  {
   "cell_type": "code",
   "execution_count": null,
   "metadata": {},
   "outputs": [
    {
     "name": "stdout",
     "output_type": "stream",
     "text": [
      "[[2, 2, 3], [7]]\n"
     ]
    }
   ],
   "source": [
    "# Combination Sum - I\n",
    "\n",
    "def solve(i, arr, com, ans, target):\n",
    "    if target==0:\n",
    "        ans.append(com[:])\n",
    "        return\n",
    "    \n",
    "    if i==len(arr):\n",
    "        return\n",
    "    \n",
    "    # pick\n",
    "    if target>=arr[i]:\n",
    "        com.append(arr[i])\n",
    "        solve(i, arr, com, ans, target-arr[i])\n",
    "        com.pop()\n",
    "\n",
    "    # not pick\n",
    "    solve(i+1, arr, com, ans, target)\n",
    "\n",
    "\n",
    "arr = [2, 3, 6, 7]\n",
    "target = 7\n",
    "ans = []\n",
    "solve(0, arr, [], ans, 7)\n",
    "print(ans)\n",
    "\n",
    "# Time Complexity = O(2^n * k) , Space Complexity = O(k * n) , k = avg length of combinations"
   ]
  },
  {
   "cell_type": "code",
   "execution_count": null,
   "metadata": {},
   "outputs": [
    {
     "name": "stdout",
     "output_type": "stream",
     "text": [
      "[[1, 2, 5], [1, 7], [1, 6, 1], [2, 6], [2, 1, 5], [7, 1]]\n"
     ]
    }
   ],
   "source": [
    "# why combination-I approach cannot be used in combination-II?\n",
    "\n",
    "def solve(i, arr, com, ans, target):\n",
    "    if target==0:\n",
    "        ans.append(com[:])\n",
    "        return\n",
    "    \n",
    "    if i==len(arr):\n",
    "        return\n",
    "    \n",
    "    # pick\n",
    "    if target>=arr[i]:\n",
    "        com.append(arr[i])\n",
    "        solve(i+1, arr, com, ans, target-arr[i])\n",
    "        com.pop()\n",
    "\n",
    "    # not pick\n",
    "    solve(i+1, arr, com, ans, target)\n",
    "\n",
    "arr = [10, 1, 2, 7, 6, 1, 5]\n",
    "ans = [] # keeping this as hash-set will solve our problem but T.C = O((2^n)*(logk))\n",
    "solve(0, arr, [], ans, 8)\n",
    "print(ans) # generates duplicate sets"
   ]
  },
  {
   "cell_type": "code",
   "execution_count": null,
   "metadata": {},
   "outputs": [
    {
     "name": "stdout",
     "output_type": "stream",
     "text": [
      "[[3, 6]]\n"
     ]
    }
   ],
   "source": [
    "# Combination Sum - II (V.V. Imp)\n",
    "\n",
    "# Note: We are not using the pick and not pick approach here because that approach can lead to duplicates getting generated, so to \n",
    "# handle the duplicates, we are exploring all the possible starting points at each level (optimized)\n",
    "\n",
    "def solve(i, arr, target, comb, ans):\n",
    "    if target==0:\n",
    "        ans.append(comb[:])\n",
    "        return\n",
    "\n",
    "    for j in range(i,len(arr)):\n",
    "        if j>i and arr[j]==arr[j-1]:\n",
    "            continue\n",
    "\n",
    "        if arr[j]>target:\n",
    "            return\n",
    "\n",
    "        comb.append(arr[j])\n",
    "        solve(j+1,arr,target-arr[j],comb,ans)\n",
    "        comb.pop()\n",
    "\n",
    "arr = [10, 1, 2, 7, 6, 1, 5]\n",
    "target = 8\n",
    "ans = []\n",
    "arr.sort()\n",
    "solve(0, arr, target, [], ans)\n",
    "print(ans)\n",
    "\n",
    "# Time Complexity = O(K * 2^N) "
   ]
  },
  {
   "cell_type": "code",
   "execution_count": null,
   "metadata": {},
   "outputs": [
    {
     "name": "stdout",
     "output_type": "stream",
     "text": [
      "[14, 11, 8, 5, 11, 8, 5, 2, 12, 9, 6, 3, 9, 6, 3, 0]\n"
     ]
    }
   ],
   "source": [
    "# Subsets - I / Power Set\n",
    "\n",
    "def solve(i, arr, ans, s):\n",
    "    if i==len(arr):\n",
    "        ans.append(s)\n",
    "        return\n",
    "    \n",
    "    # pick\n",
    "    solve(i+1,arr,ans,s+arr[i])\n",
    "    \n",
    "    # not pick\n",
    "    solve(i+1,arr,ans,s) \n",
    "\n",
    "arr = [2, 3, 6, 3]\n",
    "ans = []\n",
    "solve(0, arr, ans, 0)\n",
    "print(ans)"
   ]
  },
  {
   "cell_type": "code",
   "execution_count": null,
   "metadata": {},
   "outputs": [
    {
     "name": "stdout",
     "output_type": "stream",
     "text": [
      "[[], [1], [1, 2], [1, 2, 2], [2], [2, 2]]\n"
     ]
    }
   ],
   "source": [
    "# Subset Sum - II\n",
    "\n",
    "def solve(i, arr, comb, ans):\n",
    "    ans.append(comb[:])\n",
    "\n",
    "    for j in range(i,len(arr)):\n",
    "        if j>i and arr[j]==arr[j-1]:\n",
    "            continue\n",
    "\n",
    "        comb.append(arr[j])\n",
    "        solve(j+1, arr, comb, ans)\n",
    "        comb.pop()\n",
    "        \n",
    "arr = [1,2,2]\n",
    "ans = []\n",
    "solve(0, arr, [], ans)\n",
    "print(ans)"
   ]
  },
  {
   "cell_type": "code",
   "execution_count": 5,
   "metadata": {},
   "outputs": [
    {
     "name": "stdout",
     "output_type": "stream",
     "text": [
      "[[1, 2, 4]]\n"
     ]
    }
   ],
   "source": [
    "# Combination Sum - III\n",
    "\n",
    "def solve(start, k, target, com, ans):\n",
    "    if len(com)==k and target==0:\n",
    "        ans.append(com[:])\n",
    "        return\n",
    "\n",
    "    for i in range(start, 10):\n",
    "        if i<=target:\n",
    "            com.append(i)\n",
    "            solve(i+1, k, target-i, com, ans)\n",
    "            com.pop()\n",
    "\n",
    "ans= []\n",
    "solve(1, 3, 7, [], ans)\n",
    "print(ans)"
   ]
  },
  {
   "cell_type": "code",
   "execution_count": null,
   "metadata": {},
   "outputs": [
    {
     "name": "stdout",
     "output_type": "stream",
     "text": [
      "[[1, 2, 3], [1, 3, 2], [2, 1, 3], [2, 3, 1], [3, 1, 2], [3, 2, 1]]\n"
     ]
    }
   ],
   "source": [
    "# Print all permuations (naive approach)\n",
    "\n",
    "def solve(i, arr, map, perm, ans):\n",
    "    if i==len(arr):\n",
    "        ans.append(perm[:])\n",
    "        return\n",
    "\n",
    "    for j in range(0,len(arr)):\n",
    "        if map[j]==0:\n",
    "            perm.append(arr[j])\n",
    "            map[j]= 1\n",
    "            solve(i+1,arr,map,perm,ans)\n",
    "            map[j]= 0\n",
    "            perm.pop()\n",
    "\n",
    "ans = []\n",
    "arr = [1,2,3]\n",
    "map = [0] * len(arr)\n",
    "solve(0, arr, map, [], ans)\n",
    "print(ans)\n",
    "\n",
    "# Time Complexity = O(n! * n) , Space Complexity = O(n)"
   ]
  },
  {
   "cell_type": "code",
   "execution_count": null,
   "metadata": {},
   "outputs": [
    {
     "name": "stdout",
     "output_type": "stream",
     "text": [
      "[[1, 2, 3], [1, 3, 2], [2, 1, 3], [2, 3, 1], [3, 2, 1], [3, 1, 2]]\n"
     ]
    }
   ],
   "source": [
    "# Print all permutations (optimized)\n",
    "\n",
    "def solve(i, arr, ans):\n",
    "    if i==len(arr):\n",
    "        ans.append(arr[:])\n",
    "        return\n",
    "    \n",
    "    for j in range(i,len(arr)):\n",
    "        arr[i], arr[j] = arr[j], arr[i]\n",
    "        solve(i+1,arr,ans)\n",
    "        arr[i], arr[j] = arr[j], arr[i]\n",
    "\n",
    "ans = []\n",
    "arr = [1,2,3]\n",
    "solve(0, arr, ans)\n",
    "print(ans)\n",
    "\n",
    "# Time Complexity = O(n! * n) , Space Complexity = O(1)"
   ]
  },
  {
   "cell_type": "code",
   "execution_count": null,
   "metadata": {},
   "outputs": [
    {
     "name": "stdout",
     "output_type": "stream",
     "text": [
      "[[['Q', '.', '.', '.', '.', '.', '.', '.'], ['.', '.', '.', '.', '.', '.', 'Q', '.'], ['.', '.', '.', '.', 'Q', '.', '.', '.'], ['.', '.', '.', '.', '.', '.', '.', 'Q'], ['.', 'Q', '.', '.', '.', '.', '.', '.'], ['.', '.', '.', 'Q', '.', '.', '.', '.'], ['.', '.', '.', '.', '.', 'Q', '.', '.'], ['.', '.', 'Q', '.', '.', '.', '.', '.']], [['Q', '.', '.', '.', '.', '.', '.', '.'], ['.', '.', '.', '.', '.', '.', 'Q', '.'], ['.', '.', '.', 'Q', '.', '.', '.', '.'], ['.', '.', '.', '.', '.', 'Q', '.', '.'], ['.', '.', '.', '.', '.', '.', '.', 'Q'], ['.', 'Q', '.', '.', '.', '.', '.', '.'], ['.', '.', '.', '.', 'Q', '.', '.', '.'], ['.', '.', 'Q', '.', '.', '.', '.', '.']], [['Q', '.', '.', '.', '.', '.', '.', '.'], ['.', '.', '.', '.', '.', 'Q', '.', '.'], ['.', '.', '.', '.', '.', '.', '.', 'Q'], ['.', '.', 'Q', '.', '.', '.', '.', '.'], ['.', '.', '.', '.', '.', '.', 'Q', '.'], ['.', '.', '.', 'Q', '.', '.', '.', '.'], ['.', 'Q', '.', '.', '.', '.', '.', '.'], ['.', '.', '.', '.', 'Q', '.', '.', '.']], [['Q', '.', '.', '.', '.', '.', '.', '.'], ['.', '.', '.', '.', 'Q', '.', '.', '.'], ['.', '.', '.', '.', '.', '.', '.', 'Q'], ['.', '.', '.', '.', '.', 'Q', '.', '.'], ['.', '.', 'Q', '.', '.', '.', '.', '.'], ['.', '.', '.', '.', '.', '.', 'Q', '.'], ['.', 'Q', '.', '.', '.', '.', '.', '.'], ['.', '.', '.', 'Q', '.', '.', '.', '.']], [['.', '.', '.', '.', '.', 'Q', '.', '.'], ['Q', '.', '.', '.', '.', '.', '.', '.'], ['.', '.', '.', '.', 'Q', '.', '.', '.'], ['.', 'Q', '.', '.', '.', '.', '.', '.'], ['.', '.', '.', '.', '.', '.', '.', 'Q'], ['.', '.', 'Q', '.', '.', '.', '.', '.'], ['.', '.', '.', '.', '.', '.', 'Q', '.'], ['.', '.', '.', 'Q', '.', '.', '.', '.']], [['.', '.', '.', 'Q', '.', '.', '.', '.'], ['Q', '.', '.', '.', '.', '.', '.', '.'], ['.', '.', '.', '.', 'Q', '.', '.', '.'], ['.', '.', '.', '.', '.', '.', '.', 'Q'], ['.', 'Q', '.', '.', '.', '.', '.', '.'], ['.', '.', '.', '.', '.', '.', 'Q', '.'], ['.', '.', 'Q', '.', '.', '.', '.', '.'], ['.', '.', '.', '.', '.', 'Q', '.', '.']], [['.', '.', '.', '.', 'Q', '.', '.', '.'], ['Q', '.', '.', '.', '.', '.', '.', '.'], ['.', '.', '.', '.', '.', '.', '.', 'Q'], ['.', '.', '.', 'Q', '.', '.', '.', '.'], ['.', 'Q', '.', '.', '.', '.', '.', '.'], ['.', '.', '.', '.', '.', '.', 'Q', '.'], ['.', '.', 'Q', '.', '.', '.', '.', '.'], ['.', '.', '.', '.', '.', 'Q', '.', '.']], [['.', '.', 'Q', '.', '.', '.', '.', '.'], ['Q', '.', '.', '.', '.', '.', '.', '.'], ['.', '.', '.', '.', '.', '.', 'Q', '.'], ['.', '.', '.', '.', 'Q', '.', '.', '.'], ['.', '.', '.', '.', '.', '.', '.', 'Q'], ['.', 'Q', '.', '.', '.', '.', '.', '.'], ['.', '.', '.', 'Q', '.', '.', '.', '.'], ['.', '.', '.', '.', '.', 'Q', '.', '.']], [['.', '.', '.', '.', 'Q', '.', '.', '.'], ['Q', '.', '.', '.', '.', '.', '.', '.'], ['.', '.', '.', 'Q', '.', '.', '.', '.'], ['.', '.', '.', '.', '.', 'Q', '.', '.'], ['.', '.', '.', '.', '.', '.', '.', 'Q'], ['.', 'Q', '.', '.', '.', '.', '.', '.'], ['.', '.', '.', '.', '.', '.', 'Q', '.'], ['.', '.', 'Q', '.', '.', '.', '.', '.']], [['.', '.', '.', '.', '.', '.', 'Q', '.'], ['Q', '.', '.', '.', '.', '.', '.', '.'], ['.', '.', 'Q', '.', '.', '.', '.', '.'], ['.', '.', '.', '.', '.', '.', '.', 'Q'], ['.', '.', '.', '.', '.', 'Q', '.', '.'], ['.', '.', '.', 'Q', '.', '.', '.', '.'], ['.', 'Q', '.', '.', '.', '.', '.', '.'], ['.', '.', '.', '.', 'Q', '.', '.', '.']], [['.', '.', '.', '.', 'Q', '.', '.', '.'], ['Q', '.', '.', '.', '.', '.', '.', '.'], ['.', '.', '.', '.', '.', '.', '.', 'Q'], ['.', '.', '.', '.', '.', 'Q', '.', '.'], ['.', '.', 'Q', '.', '.', '.', '.', '.'], ['.', '.', '.', '.', '.', '.', 'Q', '.'], ['.', 'Q', '.', '.', '.', '.', '.', '.'], ['.', '.', '.', 'Q', '.', '.', '.', '.']], [['.', '.', '.', 'Q', '.', '.', '.', '.'], ['Q', '.', '.', '.', '.', '.', '.', '.'], ['.', '.', '.', '.', 'Q', '.', '.', '.'], ['.', '.', '.', '.', '.', '.', '.', 'Q'], ['.', '.', '.', '.', '.', 'Q', '.', '.'], ['.', '.', 'Q', '.', '.', '.', '.', '.'], ['.', '.', '.', '.', '.', '.', 'Q', '.'], ['.', 'Q', '.', '.', '.', '.', '.', '.']], [['.', 'Q', '.', '.', '.', '.', '.', '.'], ['.', '.', '.', '.', '.', 'Q', '.', '.'], ['Q', '.', '.', '.', '.', '.', '.', '.'], ['.', '.', '.', '.', '.', '.', 'Q', '.'], ['.', '.', '.', 'Q', '.', '.', '.', '.'], ['.', '.', '.', '.', '.', '.', '.', 'Q'], ['.', '.', 'Q', '.', '.', '.', '.', '.'], ['.', '.', '.', '.', 'Q', '.', '.', '.']], [['.', '.', '.', '.', 'Q', '.', '.', '.'], ['.', '.', 'Q', '.', '.', '.', '.', '.'], ['Q', '.', '.', '.', '.', '.', '.', '.'], ['.', '.', '.', '.', '.', '.', 'Q', '.'], ['.', 'Q', '.', '.', '.', '.', '.', '.'], ['.', '.', '.', '.', '.', '.', '.', 'Q'], ['.', '.', '.', '.', '.', 'Q', '.', '.'], ['.', '.', '.', 'Q', '.', '.', '.', '.']], [['.', '.', '.', '.', '.', '.', '.', 'Q'], ['.', '.', 'Q', '.', '.', '.', '.', '.'], ['Q', '.', '.', '.', '.', '.', '.', '.'], ['.', '.', '.', '.', '.', 'Q', '.', '.'], ['.', 'Q', '.', '.', '.', '.', '.', '.'], ['.', '.', '.', '.', 'Q', '.', '.', '.'], ['.', '.', '.', '.', '.', '.', 'Q', '.'], ['.', '.', '.', 'Q', '.', '.', '.', '.']], [['.', '.', '.', 'Q', '.', '.', '.', '.'], ['.', '.', '.', '.', '.', 'Q', '.', '.'], ['Q', '.', '.', '.', '.', '.', '.', '.'], ['.', '.', '.', '.', 'Q', '.', '.', '.'], ['.', 'Q', '.', '.', '.', '.', '.', '.'], ['.', '.', '.', '.', '.', '.', '.', 'Q'], ['.', '.', 'Q', '.', '.', '.', '.', '.'], ['.', '.', '.', '.', '.', '.', 'Q', '.']], [['.', '.', '.', '.', 'Q', '.', '.', '.'], ['.', '.', '.', '.', '.', '.', 'Q', '.'], ['Q', '.', '.', '.', '.', '.', '.', '.'], ['.', '.', '.', 'Q', '.', '.', '.', '.'], ['.', 'Q', '.', '.', '.', '.', '.', '.'], ['.', '.', '.', '.', '.', '.', '.', 'Q'], ['.', '.', '.', '.', '.', 'Q', '.', '.'], ['.', '.', 'Q', '.', '.', '.', '.', '.']], [['.', '.', '.', '.', '.', 'Q', '.', '.'], ['.', '.', 'Q', '.', '.', '.', '.', '.'], ['Q', '.', '.', '.', '.', '.', '.', '.'], ['.', '.', '.', '.', '.', '.', '.', 'Q'], ['.', '.', '.', 'Q', '.', '.', '.', '.'], ['.', 'Q', '.', '.', '.', '.', '.', '.'], ['.', '.', '.', '.', '.', '.', 'Q', '.'], ['.', '.', '.', '.', 'Q', '.', '.', '.']], [['.', '.', '.', '.', 'Q', '.', '.', '.'], ['.', '.', 'Q', '.', '.', '.', '.', '.'], ['Q', '.', '.', '.', '.', '.', '.', '.'], ['.', '.', '.', '.', '.', 'Q', '.', '.'], ['.', '.', '.', '.', '.', '.', '.', 'Q'], ['.', 'Q', '.', '.', '.', '.', '.', '.'], ['.', '.', '.', 'Q', '.', '.', '.', '.'], ['.', '.', '.', '.', '.', '.', 'Q', '.']], [['.', '.', '.', '.', '.', 'Q', '.', '.'], ['.', '.', 'Q', '.', '.', '.', '.', '.'], ['Q', '.', '.', '.', '.', '.', '.', '.'], ['.', '.', '.', '.', '.', '.', '.', 'Q'], ['.', '.', '.', '.', 'Q', '.', '.', '.'], ['.', 'Q', '.', '.', '.', '.', '.', '.'], ['.', '.', '.', 'Q', '.', '.', '.', '.'], ['.', '.', '.', '.', '.', '.', 'Q', '.']], [['.', '.', '.', 'Q', '.', '.', '.', '.'], ['.', '.', '.', '.', '.', '.', '.', 'Q'], ['Q', '.', '.', '.', '.', '.', '.', '.'], ['.', '.', 'Q', '.', '.', '.', '.', '.'], ['.', '.', '.', '.', '.', 'Q', '.', '.'], ['.', 'Q', '.', '.', '.', '.', '.', '.'], ['.', '.', '.', '.', '.', '.', 'Q', '.'], ['.', '.', '.', '.', 'Q', '.', '.', '.']], [['.', '.', '.', '.', '.', '.', '.', 'Q'], ['.', '.', '.', 'Q', '.', '.', '.', '.'], ['Q', '.', '.', '.', '.', '.', '.', '.'], ['.', '.', 'Q', '.', '.', '.', '.', '.'], ['.', '.', '.', '.', '.', 'Q', '.', '.'], ['.', 'Q', '.', '.', '.', '.', '.', '.'], ['.', '.', '.', '.', '.', '.', 'Q', '.'], ['.', '.', '.', '.', 'Q', '.', '.', '.']], [['.', '.', '.', 'Q', '.', '.', '.', '.'], ['.', '.', '.', '.', '.', '.', '.', 'Q'], ['Q', '.', '.', '.', '.', '.', '.', '.'], ['.', '.', '.', '.', 'Q', '.', '.', '.'], ['.', '.', '.', '.', '.', '.', 'Q', '.'], ['.', 'Q', '.', '.', '.', '.', '.', '.'], ['.', '.', '.', '.', '.', 'Q', '.', '.'], ['.', '.', 'Q', '.', '.', '.', '.', '.']], [['.', '.', '.', 'Q', '.', '.', '.', '.'], ['.', '.', '.', '.', '.', '.', 'Q', '.'], ['Q', '.', '.', '.', '.', '.', '.', '.'], ['.', '.', '.', '.', '.', '.', '.', 'Q'], ['.', '.', '.', '.', 'Q', '.', '.', '.'], ['.', 'Q', '.', '.', '.', '.', '.', '.'], ['.', '.', '.', '.', '.', 'Q', '.', '.'], ['.', '.', 'Q', '.', '.', '.', '.', '.']], [['.', '.', '.', '.', '.', 'Q', '.', '.'], ['.', '.', '.', 'Q', '.', '.', '.', '.'], ['Q', '.', '.', '.', '.', '.', '.', '.'], ['.', '.', '.', '.', 'Q', '.', '.', '.'], ['.', '.', '.', '.', '.', '.', '.', 'Q'], ['.', 'Q', '.', '.', '.', '.', '.', '.'], ['.', '.', '.', '.', '.', '.', 'Q', '.'], ['.', '.', 'Q', '.', '.', '.', '.', '.']], [['.', '.', '.', '.', '.', 'Q', '.', '.'], ['.', '.', 'Q', '.', '.', '.', '.', '.'], ['Q', '.', '.', '.', '.', '.', '.', '.'], ['.', '.', '.', '.', '.', '.', 'Q', '.'], ['.', '.', '.', '.', 'Q', '.', '.', '.'], ['.', '.', '.', '.', '.', '.', '.', 'Q'], ['.', 'Q', '.', '.', '.', '.', '.', '.'], ['.', '.', '.', 'Q', '.', '.', '.', '.']], [['.', '.', '.', '.', '.', '.', 'Q', '.'], ['.', '.', 'Q', '.', '.', '.', '.', '.'], ['Q', '.', '.', '.', '.', '.', '.', '.'], ['.', '.', '.', '.', '.', 'Q', '.', '.'], ['.', '.', '.', '.', '.', '.', '.', 'Q'], ['.', '.', '.', '.', 'Q', '.', '.', '.'], ['.', 'Q', '.', '.', '.', '.', '.', '.'], ['.', '.', '.', 'Q', '.', '.', '.', '.']], [['.', '.', '.', '.', 'Q', '.', '.', '.'], ['.', '.', '.', '.', '.', '.', 'Q', '.'], ['Q', '.', '.', '.', '.', '.', '.', '.'], ['.', '.', 'Q', '.', '.', '.', '.', '.'], ['.', '.', '.', '.', '.', '.', '.', 'Q'], ['.', '.', '.', '.', '.', 'Q', '.', '.'], ['.', '.', '.', 'Q', '.', '.', '.', '.'], ['.', 'Q', '.', '.', '.', '.', '.', '.']], [['.', 'Q', '.', '.', '.', '.', '.', '.'], ['.', '.', '.', '.', 'Q', '.', '.', '.'], ['.', '.', '.', '.', '.', '.', 'Q', '.'], ['Q', '.', '.', '.', '.', '.', '.', '.'], ['.', '.', 'Q', '.', '.', '.', '.', '.'], ['.', '.', '.', '.', '.', '.', '.', 'Q'], ['.', '.', '.', '.', '.', 'Q', '.', '.'], ['.', '.', '.', 'Q', '.', '.', '.', '.']], [['.', 'Q', '.', '.', '.', '.', '.', '.'], ['.', '.', '.', '.', '.', '.', '.', 'Q'], ['.', '.', '.', '.', '.', 'Q', '.', '.'], ['Q', '.', '.', '.', '.', '.', '.', '.'], ['.', '.', 'Q', '.', '.', '.', '.', '.'], ['.', '.', '.', '.', 'Q', '.', '.', '.'], ['.', '.', '.', '.', '.', '.', 'Q', '.'], ['.', '.', '.', 'Q', '.', '.', '.', '.']], [['.', '.', '.', '.', '.', 'Q', '.', '.'], ['.', 'Q', '.', '.', '.', '.', '.', '.'], ['.', '.', '.', '.', '.', '.', 'Q', '.'], ['Q', '.', '.', '.', '.', '.', '.', '.'], ['.', '.', 'Q', '.', '.', '.', '.', '.'], ['.', '.', '.', '.', 'Q', '.', '.', '.'], ['.', '.', '.', '.', '.', '.', '.', 'Q'], ['.', '.', '.', 'Q', '.', '.', '.', '.']], [['.', '.', '.', '.', '.', '.', 'Q', '.'], ['.', 'Q', '.', '.', '.', '.', '.', '.'], ['.', '.', '.', 'Q', '.', '.', '.', '.'], ['Q', '.', '.', '.', '.', '.', '.', '.'], ['.', '.', '.', '.', '.', '.', '.', 'Q'], ['.', '.', '.', '.', 'Q', '.', '.', '.'], ['.', '.', 'Q', '.', '.', '.', '.', '.'], ['.', '.', '.', '.', '.', 'Q', '.', '.']], [['.', '.', '.', '.', '.', '.', '.', 'Q'], ['.', 'Q', '.', '.', '.', '.', '.', '.'], ['.', '.', '.', 'Q', '.', '.', '.', '.'], ['Q', '.', '.', '.', '.', '.', '.', '.'], ['.', '.', '.', '.', '.', '.', 'Q', '.'], ['.', '.', '.', '.', 'Q', '.', '.', '.'], ['.', '.', 'Q', '.', '.', '.', '.', '.'], ['.', '.', '.', '.', '.', 'Q', '.', '.']], [['.', '.', '.', '.', 'Q', '.', '.', '.'], ['.', 'Q', '.', '.', '.', '.', '.', '.'], ['.', '.', '.', '.', '.', '.', '.', 'Q'], ['Q', '.', '.', '.', '.', '.', '.', '.'], ['.', '.', '.', 'Q', '.', '.', '.', '.'], ['.', '.', '.', '.', '.', '.', 'Q', '.'], ['.', '.', 'Q', '.', '.', '.', '.', '.'], ['.', '.', '.', '.', '.', 'Q', '.', '.']], [['.', '.', '.', '.', '.', 'Q', '.', '.'], ['.', 'Q', '.', '.', '.', '.', '.', '.'], ['.', '.', '.', '.', '.', '.', 'Q', '.'], ['Q', '.', '.', '.', '.', '.', '.', '.'], ['.', '.', '.', 'Q', '.', '.', '.', '.'], ['.', '.', '.', '.', '.', '.', '.', 'Q'], ['.', '.', '.', '.', 'Q', '.', '.', '.'], ['.', '.', 'Q', '.', '.', '.', '.', '.']], [['.', '.', '.', '.', 'Q', '.', '.', '.'], ['.', 'Q', '.', '.', '.', '.', '.', '.'], ['.', '.', '.', '.', '.', 'Q', '.', '.'], ['Q', '.', '.', '.', '.', '.', '.', '.'], ['.', '.', '.', '.', '.', '.', 'Q', '.'], ['.', '.', '.', 'Q', '.', '.', '.', '.'], ['.', '.', '.', '.', '.', '.', '.', 'Q'], ['.', '.', 'Q', '.', '.', '.', '.', '.']], [['.', '.', 'Q', '.', '.', '.', '.', '.'], ['.', '.', '.', '.', 'Q', '.', '.', '.'], ['.', '.', '.', '.', '.', '.', 'Q', '.'], ['Q', '.', '.', '.', '.', '.', '.', '.'], ['.', '.', '.', 'Q', '.', '.', '.', '.'], ['.', 'Q', '.', '.', '.', '.', '.', '.'], ['.', '.', '.', '.', '.', '.', '.', 'Q'], ['.', '.', '.', '.', '.', 'Q', '.', '.']], [['.', '.', '.', '.', '.', 'Q', '.', '.'], ['.', '.', '.', 'Q', '.', '.', '.', '.'], ['.', '.', '.', '.', '.', '.', 'Q', '.'], ['Q', '.', '.', '.', '.', '.', '.', '.'], ['.', '.', '.', '.', '.', '.', '.', 'Q'], ['.', 'Q', '.', '.', '.', '.', '.', '.'], ['.', '.', '.', '.', 'Q', '.', '.', '.'], ['.', '.', 'Q', '.', '.', '.', '.', '.']], [['.', '.', '.', '.', 'Q', '.', '.', '.'], ['.', '.', '.', '.', '.', '.', '.', 'Q'], ['.', '.', '.', 'Q', '.', '.', '.', '.'], ['Q', '.', '.', '.', '.', '.', '.', '.'], ['.', '.', '.', '.', '.', '.', 'Q', '.'], ['.', 'Q', '.', '.', '.', '.', '.', '.'], ['.', '.', '.', '.', '.', 'Q', '.', '.'], ['.', '.', 'Q', '.', '.', '.', '.', '.']], [['.', '.', 'Q', '.', '.', '.', '.', '.'], ['.', '.', '.', '.', '.', 'Q', '.', '.'], ['.', '.', '.', '.', '.', '.', '.', 'Q'], ['Q', '.', '.', '.', '.', '.', '.', '.'], ['.', '.', '.', '.', 'Q', '.', '.', '.'], ['.', '.', '.', '.', '.', '.', 'Q', '.'], ['.', 'Q', '.', '.', '.', '.', '.', '.'], ['.', '.', '.', 'Q', '.', '.', '.', '.']], [['.', '.', '.', '.', '.', '.', 'Q', '.'], ['.', '.', '.', '.', 'Q', '.', '.', '.'], ['.', '.', 'Q', '.', '.', '.', '.', '.'], ['Q', '.', '.', '.', '.', '.', '.', '.'], ['.', '.', '.', '.', '.', 'Q', '.', '.'], ['.', '.', '.', '.', '.', '.', '.', 'Q'], ['.', 'Q', '.', '.', '.', '.', '.', '.'], ['.', '.', '.', 'Q', '.', '.', '.', '.']], [['.', '.', '.', '.', '.', 'Q', '.', '.'], ['.', '.', '.', 'Q', '.', '.', '.', '.'], ['.', '.', '.', '.', '.', '.', 'Q', '.'], ['Q', '.', '.', '.', '.', '.', '.', '.'], ['.', '.', 'Q', '.', '.', '.', '.', '.'], ['.', '.', '.', '.', 'Q', '.', '.', '.'], ['.', 'Q', '.', '.', '.', '.', '.', '.'], ['.', '.', '.', '.', '.', '.', '.', 'Q']], [['.', '.', '.', '.', 'Q', '.', '.', '.'], ['.', '.', '.', '.', '.', '.', '.', 'Q'], ['.', '.', '.', 'Q', '.', '.', '.', '.'], ['Q', '.', '.', '.', '.', '.', '.', '.'], ['.', '.', 'Q', '.', '.', '.', '.', '.'], ['.', '.', '.', '.', '.', 'Q', '.', '.'], ['.', 'Q', '.', '.', '.', '.', '.', '.'], ['.', '.', '.', '.', '.', '.', 'Q', '.']], [['.', '.', 'Q', '.', '.', '.', '.', '.'], ['.', '.', '.', '.', '.', 'Q', '.', '.'], ['.', '.', '.', 'Q', '.', '.', '.', '.'], ['Q', '.', '.', '.', '.', '.', '.', '.'], ['.', '.', '.', '.', '.', '.', '.', 'Q'], ['.', '.', '.', '.', 'Q', '.', '.', '.'], ['.', '.', '.', '.', '.', '.', 'Q', '.'], ['.', 'Q', '.', '.', '.', '.', '.', '.']], [['.', '.', 'Q', '.', '.', '.', '.', '.'], ['.', '.', '.', '.', '.', 'Q', '.', '.'], ['.', '.', '.', '.', '.', '.', '.', 'Q'], ['Q', '.', '.', '.', '.', '.', '.', '.'], ['.', '.', '.', 'Q', '.', '.', '.', '.'], ['.', '.', '.', '.', '.', '.', 'Q', '.'], ['.', '.', '.', '.', 'Q', '.', '.', '.'], ['.', 'Q', '.', '.', '.', '.', '.', '.']], [['.', '.', '.', '.', 'Q', '.', '.', '.'], ['.', '.', '.', '.', '.', '.', 'Q', '.'], ['.', '.', '.', 'Q', '.', '.', '.', '.'], ['Q', '.', '.', '.', '.', '.', '.', '.'], ['.', '.', 'Q', '.', '.', '.', '.', '.'], ['.', '.', '.', '.', '.', '.', '.', 'Q'], ['.', '.', '.', '.', '.', 'Q', '.', '.'], ['.', 'Q', '.', '.', '.', '.', '.', '.']], [['.', 'Q', '.', '.', '.', '.', '.', '.'], ['.', '.', '.', '.', '.', 'Q', '.', '.'], ['.', '.', '.', '.', '.', '.', '.', 'Q'], ['.', '.', 'Q', '.', '.', '.', '.', '.'], ['Q', '.', '.', '.', '.', '.', '.', '.'], ['.', '.', '.', 'Q', '.', '.', '.', '.'], ['.', '.', '.', '.', '.', '.', 'Q', '.'], ['.', '.', '.', '.', 'Q', '.', '.', '.']], [['.', 'Q', '.', '.', '.', '.', '.', '.'], ['.', '.', '.', '.', 'Q', '.', '.', '.'], ['.', '.', '.', '.', '.', '.', 'Q', '.'], ['.', '.', '.', 'Q', '.', '.', '.', '.'], ['Q', '.', '.', '.', '.', '.', '.', '.'], ['.', '.', '.', '.', '.', '.', '.', 'Q'], ['.', '.', '.', '.', '.', 'Q', '.', '.'], ['.', '.', 'Q', '.', '.', '.', '.', '.']], [['.', 'Q', '.', '.', '.', '.', '.', '.'], ['.', '.', '.', '.', '.', '.', 'Q', '.'], ['.', '.', '.', '.', 'Q', '.', '.', '.'], ['.', '.', '.', '.', '.', '.', '.', 'Q'], ['Q', '.', '.', '.', '.', '.', '.', '.'], ['.', '.', '.', 'Q', '.', '.', '.', '.'], ['.', '.', '.', '.', '.', 'Q', '.', '.'], ['.', '.', 'Q', '.', '.', '.', '.', '.']], [['.', '.', '.', '.', '.', '.', 'Q', '.'], ['.', 'Q', '.', '.', '.', '.', '.', '.'], ['.', '.', '.', '.', '.', 'Q', '.', '.'], ['.', '.', 'Q', '.', '.', '.', '.', '.'], ['Q', '.', '.', '.', '.', '.', '.', '.'], ['.', '.', '.', 'Q', '.', '.', '.', '.'], ['.', '.', '.', '.', '.', '.', '.', 'Q'], ['.', '.', '.', '.', 'Q', '.', '.', '.']], [['.', '.', '.', '.', '.', '.', '.', 'Q'], ['.', 'Q', '.', '.', '.', '.', '.', '.'], ['.', '.', '.', '.', 'Q', '.', '.', '.'], ['.', '.', 'Q', '.', '.', '.', '.', '.'], ['Q', '.', '.', '.', '.', '.', '.', '.'], ['.', '.', '.', '.', '.', '.', 'Q', '.'], ['.', '.', '.', 'Q', '.', '.', '.', '.'], ['.', '.', '.', '.', '.', 'Q', '.', '.']], [['.', '.', '.', 'Q', '.', '.', '.', '.'], ['.', 'Q', '.', '.', '.', '.', '.', '.'], ['.', '.', '.', '.', '.', '.', '.', 'Q'], ['.', '.', '.', '.', '.', 'Q', '.', '.'], ['Q', '.', '.', '.', '.', '.', '.', '.'], ['.', '.', 'Q', '.', '.', '.', '.', '.'], ['.', '.', '.', '.', 'Q', '.', '.', '.'], ['.', '.', '.', '.', '.', '.', 'Q', '.']], [['.', '.', '.', 'Q', '.', '.', '.', '.'], ['.', 'Q', '.', '.', '.', '.', '.', '.'], ['.', '.', '.', '.', '.', '.', 'Q', '.'], ['.', '.', '.', '.', 'Q', '.', '.', '.'], ['Q', '.', '.', '.', '.', '.', '.', '.'], ['.', '.', '.', '.', '.', '.', '.', 'Q'], ['.', '.', '.', '.', '.', 'Q', '.', '.'], ['.', '.', 'Q', '.', '.', '.', '.', '.']], [['.', '.', 'Q', '.', '.', '.', '.', '.'], ['.', '.', '.', '.', '.', 'Q', '.', '.'], ['.', 'Q', '.', '.', '.', '.', '.', '.'], ['.', '.', '.', '.', '.', '.', 'Q', '.'], ['Q', '.', '.', '.', '.', '.', '.', '.'], ['.', '.', '.', 'Q', '.', '.', '.', '.'], ['.', '.', '.', '.', '.', '.', '.', 'Q'], ['.', '.', '.', '.', 'Q', '.', '.', '.']], [['.', '.', 'Q', '.', '.', '.', '.', '.'], ['.', '.', '.', '.', 'Q', '.', '.', '.'], ['.', 'Q', '.', '.', '.', '.', '.', '.'], ['.', '.', '.', '.', '.', '.', '.', 'Q'], ['Q', '.', '.', '.', '.', '.', '.', '.'], ['.', '.', '.', '.', '.', '.', 'Q', '.'], ['.', '.', '.', 'Q', '.', '.', '.', '.'], ['.', '.', '.', '.', '.', 'Q', '.', '.']], [['.', '.', '.', '.', '.', 'Q', '.', '.'], ['.', '.', '.', '.', '.', '.', '.', 'Q'], ['.', 'Q', '.', '.', '.', '.', '.', '.'], ['.', '.', '.', 'Q', '.', '.', '.', '.'], ['Q', '.', '.', '.', '.', '.', '.', '.'], ['.', '.', '.', '.', '.', '.', 'Q', '.'], ['.', '.', '.', '.', 'Q', '.', '.', '.'], ['.', '.', 'Q', '.', '.', '.', '.', '.']], [['.', '.', 'Q', '.', '.', '.', '.', '.'], ['.', '.', '.', '.', '.', '.', '.', 'Q'], ['.', '.', '.', 'Q', '.', '.', '.', '.'], ['.', '.', '.', '.', '.', '.', 'Q', '.'], ['Q', '.', '.', '.', '.', '.', '.', '.'], ['.', '.', '.', '.', '.', 'Q', '.', '.'], ['.', 'Q', '.', '.', '.', '.', '.', '.'], ['.', '.', '.', '.', 'Q', '.', '.', '.']], [['.', '.', 'Q', '.', '.', '.', '.', '.'], ['.', '.', '.', '.', 'Q', '.', '.', '.'], ['.', '.', '.', '.', '.', '.', '.', 'Q'], ['.', '.', '.', 'Q', '.', '.', '.', '.'], ['Q', '.', '.', '.', '.', '.', '.', '.'], ['.', '.', '.', '.', '.', '.', 'Q', '.'], ['.', 'Q', '.', '.', '.', '.', '.', '.'], ['.', '.', '.', '.', '.', 'Q', '.', '.']], [['.', '.', '.', '.', '.', 'Q', '.', '.'], ['.', '.', 'Q', '.', '.', '.', '.', '.'], ['.', '.', '.', '.', '.', '.', 'Q', '.'], ['.', '.', '.', 'Q', '.', '.', '.', '.'], ['Q', '.', '.', '.', '.', '.', '.', '.'], ['.', '.', '.', '.', '.', '.', '.', 'Q'], ['.', 'Q', '.', '.', '.', '.', '.', '.'], ['.', '.', '.', '.', 'Q', '.', '.', '.']], [['.', '.', '.', '.', '.', 'Q', '.', '.'], ['.', '.', 'Q', '.', '.', '.', '.', '.'], ['.', '.', '.', '.', 'Q', '.', '.', '.'], ['.', '.', '.', '.', '.', '.', 'Q', '.'], ['Q', '.', '.', '.', '.', '.', '.', '.'], ['.', '.', '.', 'Q', '.', '.', '.', '.'], ['.', 'Q', '.', '.', '.', '.', '.', '.'], ['.', '.', '.', '.', '.', '.', '.', 'Q']], [['.', '.', '.', '.', '.', 'Q', '.', '.'], ['.', '.', 'Q', '.', '.', '.', '.', '.'], ['.', '.', '.', '.', 'Q', '.', '.', '.'], ['.', '.', '.', '.', '.', '.', '.', 'Q'], ['Q', '.', '.', '.', '.', '.', '.', '.'], ['.', '.', '.', 'Q', '.', '.', '.', '.'], ['.', 'Q', '.', '.', '.', '.', '.', '.'], ['.', '.', '.', '.', '.', '.', 'Q', '.']], [['.', '.', '.', 'Q', '.', '.', '.', '.'], ['.', '.', '.', '.', '.', '.', '.', 'Q'], ['.', '.', '.', '.', 'Q', '.', '.', '.'], ['.', '.', 'Q', '.', '.', '.', '.', '.'], ['Q', '.', '.', '.', '.', '.', '.', '.'], ['.', '.', '.', '.', '.', '.', 'Q', '.'], ['.', 'Q', '.', '.', '.', '.', '.', '.'], ['.', '.', '.', '.', '.', 'Q', '.', '.']], [['.', '.', '.', 'Q', '.', '.', '.', '.'], ['.', '.', '.', '.', '.', '.', 'Q', '.'], ['.', '.', '.', '.', 'Q', '.', '.', '.'], ['.', '.', 'Q', '.', '.', '.', '.', '.'], ['Q', '.', '.', '.', '.', '.', '.', '.'], ['.', '.', '.', '.', '.', 'Q', '.', '.'], ['.', '.', '.', '.', '.', '.', '.', 'Q'], ['.', 'Q', '.', '.', '.', '.', '.', '.']], [['.', '.', '.', 'Q', '.', '.', '.', '.'], ['.', '.', '.', '.', '.', 'Q', '.', '.'], ['.', '.', '.', '.', '.', '.', '.', 'Q'], ['.', '.', 'Q', '.', '.', '.', '.', '.'], ['Q', '.', '.', '.', '.', '.', '.', '.'], ['.', '.', '.', '.', '.', '.', 'Q', '.'], ['.', '.', '.', '.', 'Q', '.', '.', '.'], ['.', 'Q', '.', '.', '.', '.', '.', '.']], [['.', 'Q', '.', '.', '.', '.', '.', '.'], ['.', '.', '.', 'Q', '.', '.', '.', '.'], ['.', '.', '.', '.', '.', 'Q', '.', '.'], ['.', '.', '.', '.', '.', '.', '.', 'Q'], ['.', '.', 'Q', '.', '.', '.', '.', '.'], ['Q', '.', '.', '.', '.', '.', '.', '.'], ['.', '.', '.', '.', '.', '.', 'Q', '.'], ['.', '.', '.', '.', 'Q', '.', '.', '.']], [['.', '.', '.', 'Q', '.', '.', '.', '.'], ['.', 'Q', '.', '.', '.', '.', '.', '.'], ['.', '.', '.', '.', 'Q', '.', '.', '.'], ['.', '.', '.', '.', '.', '.', '.', 'Q'], ['.', '.', '.', '.', '.', 'Q', '.', '.'], ['Q', '.', '.', '.', '.', '.', '.', '.'], ['.', '.', 'Q', '.', '.', '.', '.', '.'], ['.', '.', '.', '.', '.', '.', 'Q', '.']], [['.', '.', '.', 'Q', '.', '.', '.', '.'], ['.', 'Q', '.', '.', '.', '.', '.', '.'], ['.', '.', '.', '.', '.', '.', '.', 'Q'], ['.', '.', '.', '.', 'Q', '.', '.', '.'], ['.', '.', '.', '.', '.', '.', 'Q', '.'], ['Q', '.', '.', '.', '.', '.', '.', '.'], ['.', '.', 'Q', '.', '.', '.', '.', '.'], ['.', '.', '.', '.', '.', 'Q', '.', '.']], [['.', '.', 'Q', '.', '.', '.', '.', '.'], ['.', '.', '.', '.', '.', '.', 'Q', '.'], ['.', 'Q', '.', '.', '.', '.', '.', '.'], ['.', '.', '.', '.', '.', '.', '.', 'Q'], ['.', '.', '.', '.', 'Q', '.', '.', '.'], ['Q', '.', '.', '.', '.', '.', '.', '.'], ['.', '.', '.', 'Q', '.', '.', '.', '.'], ['.', '.', '.', '.', '.', 'Q', '.', '.']], [['.', '.', 'Q', '.', '.', '.', '.', '.'], ['.', '.', '.', '.', '.', 'Q', '.', '.'], ['.', 'Q', '.', '.', '.', '.', '.', '.'], ['.', '.', '.', '.', 'Q', '.', '.', '.'], ['.', '.', '.', '.', '.', '.', '.', 'Q'], ['Q', '.', '.', '.', '.', '.', '.', '.'], ['.', '.', '.', '.', '.', '.', 'Q', '.'], ['.', '.', '.', 'Q', '.', '.', '.', '.']], [['.', '.', 'Q', '.', '.', '.', '.', '.'], ['.', '.', '.', '.', '.', 'Q', '.', '.'], ['.', 'Q', '.', '.', '.', '.', '.', '.'], ['.', '.', '.', '.', '.', '.', 'Q', '.'], ['.', '.', '.', '.', 'Q', '.', '.', '.'], ['Q', '.', '.', '.', '.', '.', '.', '.'], ['.', '.', '.', '.', '.', '.', '.', 'Q'], ['.', '.', '.', 'Q', '.', '.', '.', '.']], [['.', '.', '.', '.', 'Q', '.', '.', '.'], ['.', '.', '.', '.', '.', '.', 'Q', '.'], ['.', 'Q', '.', '.', '.', '.', '.', '.'], ['.', '.', '.', '.', '.', 'Q', '.', '.'], ['.', '.', 'Q', '.', '.', '.', '.', '.'], ['Q', '.', '.', '.', '.', '.', '.', '.'], ['.', '.', '.', 'Q', '.', '.', '.', '.'], ['.', '.', '.', '.', '.', '.', '.', 'Q']], [['.', '.', '.', '.', 'Q', '.', '.', '.'], ['.', '.', '.', '.', '.', '.', 'Q', '.'], ['.', 'Q', '.', '.', '.', '.', '.', '.'], ['.', '.', '.', '.', '.', 'Q', '.', '.'], ['.', '.', 'Q', '.', '.', '.', '.', '.'], ['Q', '.', '.', '.', '.', '.', '.', '.'], ['.', '.', '.', '.', '.', '.', '.', 'Q'], ['.', '.', '.', 'Q', '.', '.', '.', '.']], [['.', '.', '.', '.', '.', '.', 'Q', '.'], ['.', '.', '.', 'Q', '.', '.', '.', '.'], ['.', 'Q', '.', '.', '.', '.', '.', '.'], ['.', '.', '.', '.', 'Q', '.', '.', '.'], ['.', '.', '.', '.', '.', '.', '.', 'Q'], ['Q', '.', '.', '.', '.', '.', '.', '.'], ['.', '.', 'Q', '.', '.', '.', '.', '.'], ['.', '.', '.', '.', '.', 'Q', '.', '.']], [['.', '.', '.', '.', '.', '.', 'Q', '.'], ['.', '.', '.', 'Q', '.', '.', '.', '.'], ['.', 'Q', '.', '.', '.', '.', '.', '.'], ['.', '.', '.', '.', '.', '.', '.', 'Q'], ['.', '.', '.', '.', '.', 'Q', '.', '.'], ['Q', '.', '.', '.', '.', '.', '.', '.'], ['.', '.', 'Q', '.', '.', '.', '.', '.'], ['.', '.', '.', '.', 'Q', '.', '.', '.']], [['.', '.', '.', '.', 'Q', '.', '.', '.'], ['.', '.', '.', '.', '.', '.', 'Q', '.'], ['.', 'Q', '.', '.', '.', '.', '.', '.'], ['.', '.', '.', 'Q', '.', '.', '.', '.'], ['.', '.', '.', '.', '.', '.', '.', 'Q'], ['Q', '.', '.', '.', '.', '.', '.', '.'], ['.', '.', 'Q', '.', '.', '.', '.', '.'], ['.', '.', '.', '.', '.', 'Q', '.', '.']], [['.', '.', 'Q', '.', '.', '.', '.', '.'], ['.', '.', '.', '.', '.', 'Q', '.', '.'], ['.', '.', '.', '.', '.', '.', '.', 'Q'], ['.', 'Q', '.', '.', '.', '.', '.', '.'], ['.', '.', '.', 'Q', '.', '.', '.', '.'], ['Q', '.', '.', '.', '.', '.', '.', '.'], ['.', '.', '.', '.', '.', '.', 'Q', '.'], ['.', '.', '.', '.', 'Q', '.', '.', '.']], [['.', '.', '.', '.', '.', '.', 'Q', '.'], ['.', '.', 'Q', '.', '.', '.', '.', '.'], ['.', '.', '.', '.', '.', '.', '.', 'Q'], ['.', 'Q', '.', '.', '.', '.', '.', '.'], ['.', '.', '.', '.', 'Q', '.', '.', '.'], ['Q', '.', '.', '.', '.', '.', '.', '.'], ['.', '.', '.', '.', '.', 'Q', '.', '.'], ['.', '.', '.', 'Q', '.', '.', '.', '.']], [['.', '.', '.', 'Q', '.', '.', '.', '.'], ['.', '.', '.', '.', '.', '.', 'Q', '.'], ['.', '.', '.', '.', 'Q', '.', '.', '.'], ['.', 'Q', '.', '.', '.', '.', '.', '.'], ['.', '.', '.', '.', '.', 'Q', '.', '.'], ['Q', '.', '.', '.', '.', '.', '.', '.'], ['.', '.', 'Q', '.', '.', '.', '.', '.'], ['.', '.', '.', '.', '.', '.', '.', 'Q']], [['.', '.', '.', 'Q', '.', '.', '.', '.'], ['.', '.', '.', '.', '.', 'Q', '.', '.'], ['.', '.', '.', '.', '.', '.', '.', 'Q'], ['.', 'Q', '.', '.', '.', '.', '.', '.'], ['.', '.', '.', '.', '.', '.', 'Q', '.'], ['Q', '.', '.', '.', '.', '.', '.', '.'], ['.', '.', 'Q', '.', '.', '.', '.', '.'], ['.', '.', '.', '.', 'Q', '.', '.', '.']], [['.', '.', '.', '.', 'Q', '.', '.', '.'], ['.', '.', 'Q', '.', '.', '.', '.', '.'], ['.', '.', '.', '.', '.', '.', '.', 'Q'], ['.', '.', '.', 'Q', '.', '.', '.', '.'], ['.', '.', '.', '.', '.', '.', 'Q', '.'], ['Q', '.', '.', '.', '.', '.', '.', '.'], ['.', '.', '.', '.', '.', 'Q', '.', '.'], ['.', 'Q', '.', '.', '.', '.', '.', '.']], [['.', 'Q', '.', '.', '.', '.', '.', '.'], ['.', '.', '.', '.', '.', '.', 'Q', '.'], ['.', '.', 'Q', '.', '.', '.', '.', '.'], ['.', '.', '.', '.', '.', 'Q', '.', '.'], ['.', '.', '.', '.', '.', '.', '.', 'Q'], ['.', '.', '.', '.', 'Q', '.', '.', '.'], ['Q', '.', '.', '.', '.', '.', '.', '.'], ['.', '.', '.', 'Q', '.', '.', '.', '.']], [['.', '.', '.', 'Q', '.', '.', '.', '.'], ['.', 'Q', '.', '.', '.', '.', '.', '.'], ['.', '.', '.', '.', '.', '.', 'Q', '.'], ['.', '.', 'Q', '.', '.', '.', '.', '.'], ['.', '.', '.', '.', '.', 'Q', '.', '.'], ['.', '.', '.', '.', '.', '.', '.', 'Q'], ['Q', '.', '.', '.', '.', '.', '.', '.'], ['.', '.', '.', '.', 'Q', '.', '.', '.']], [['.', '.', '.', '.', 'Q', '.', '.', '.'], ['.', 'Q', '.', '.', '.', '.', '.', '.'], ['.', '.', '.', 'Q', '.', '.', '.', '.'], ['.', '.', '.', '.', '.', 'Q', '.', '.'], ['.', '.', '.', '.', '.', '.', '.', 'Q'], ['.', '.', 'Q', '.', '.', '.', '.', '.'], ['Q', '.', '.', '.', '.', '.', '.', '.'], ['.', '.', '.', '.', '.', '.', 'Q', '.']], [['.', '.', 'Q', '.', '.', '.', '.', '.'], ['.', '.', '.', '.', '.', '.', 'Q', '.'], ['.', 'Q', '.', '.', '.', '.', '.', '.'], ['.', '.', '.', '.', '.', '.', '.', 'Q'], ['.', '.', '.', '.', '.', 'Q', '.', '.'], ['.', '.', '.', 'Q', '.', '.', '.', '.'], ['Q', '.', '.', '.', '.', '.', '.', '.'], ['.', '.', '.', '.', 'Q', '.', '.', '.']], [['.', '.', '.', '.', '.', 'Q', '.', '.'], ['.', '.', '.', 'Q', '.', '.', '.', '.'], ['.', 'Q', '.', '.', '.', '.', '.', '.'], ['.', '.', '.', '.', '.', '.', '.', 'Q'], ['.', '.', '.', '.', 'Q', '.', '.', '.'], ['.', '.', '.', '.', '.', '.', 'Q', '.'], ['Q', '.', '.', '.', '.', '.', '.', '.'], ['.', '.', 'Q', '.', '.', '.', '.', '.']], [['.', '.', '.', '.', '.', 'Q', '.', '.'], ['.', '.', 'Q', '.', '.', '.', '.', '.'], ['.', '.', '.', '.', '.', '.', 'Q', '.'], ['.', 'Q', '.', '.', '.', '.', '.', '.'], ['.', '.', '.', 'Q', '.', '.', '.', '.'], ['.', '.', '.', '.', '.', '.', '.', 'Q'], ['Q', '.', '.', '.', '.', '.', '.', '.'], ['.', '.', '.', '.', 'Q', '.', '.', '.']], [['.', '.', '.', '.', '.', 'Q', '.', '.'], ['.', '.', 'Q', '.', '.', '.', '.', '.'], ['.', '.', '.', '.', '.', '.', 'Q', '.'], ['.', 'Q', '.', '.', '.', '.', '.', '.'], ['.', '.', '.', '.', '.', '.', '.', 'Q'], ['.', '.', '.', '.', 'Q', '.', '.', '.'], ['Q', '.', '.', '.', '.', '.', '.', '.'], ['.', '.', '.', 'Q', '.', '.', '.', '.']], [['.', '.', '.', 'Q', '.', '.', '.', '.'], ['.', '.', '.', '.', '.', '.', 'Q', '.'], ['.', '.', 'Q', '.', '.', '.', '.', '.'], ['.', '.', '.', '.', '.', '.', '.', 'Q'], ['.', 'Q', '.', '.', '.', '.', '.', '.'], ['.', '.', '.', '.', 'Q', '.', '.', '.'], ['Q', '.', '.', '.', '.', '.', '.', '.'], ['.', '.', '.', '.', '.', 'Q', '.', '.']], [['.', '.', '.', 'Q', '.', '.', '.', '.'], ['.', 'Q', '.', '.', '.', '.', '.', '.'], ['.', '.', '.', '.', '.', '.', 'Q', '.'], ['.', '.', 'Q', '.', '.', '.', '.', '.'], ['.', '.', '.', '.', '.', 'Q', '.', '.'], ['.', '.', '.', '.', '.', '.', '.', 'Q'], ['.', '.', '.', '.', 'Q', '.', '.', '.'], ['Q', '.', '.', '.', '.', '.', '.', '.']], [['.', '.', '.', '.', 'Q', '.', '.', '.'], ['.', 'Q', '.', '.', '.', '.', '.', '.'], ['.', '.', '.', 'Q', '.', '.', '.', '.'], ['.', '.', '.', '.', '.', '.', 'Q', '.'], ['.', '.', 'Q', '.', '.', '.', '.', '.'], ['.', '.', '.', '.', '.', '.', '.', 'Q'], ['.', '.', '.', '.', '.', 'Q', '.', '.'], ['Q', '.', '.', '.', '.', '.', '.', '.']], [['.', '.', 'Q', '.', '.', '.', '.', '.'], ['.', '.', '.', '.', 'Q', '.', '.', '.'], ['.', 'Q', '.', '.', '.', '.', '.', '.'], ['.', '.', '.', '.', '.', '.', '.', 'Q'], ['.', '.', '.', '.', '.', 'Q', '.', '.'], ['.', '.', '.', 'Q', '.', '.', '.', '.'], ['.', '.', '.', '.', '.', '.', 'Q', '.'], ['Q', '.', '.', '.', '.', '.', '.', '.']], [['.', '.', 'Q', '.', '.', '.', '.', '.'], ['.', '.', '.', '.', '.', 'Q', '.', '.'], ['.', '.', '.', 'Q', '.', '.', '.', '.'], ['.', 'Q', '.', '.', '.', '.', '.', '.'], ['.', '.', '.', '.', '.', '.', '.', 'Q'], ['.', '.', '.', '.', 'Q', '.', '.', '.'], ['.', '.', '.', '.', '.', '.', 'Q', '.'], ['Q', '.', '.', '.', '.', '.', '.', '.']]]\n"
     ]
    }
   ],
   "source": [
    "# N Queens\n",
    "\n",
    "def isSafe(row, col, board):\n",
    "    # check left horizontal\n",
    "    c= col\n",
    "    while c>=0:\n",
    "        if board[row][c]==\"Q\":\n",
    "            return False\n",
    "        c-=1\n",
    "\n",
    "    # check left diagonal upper\n",
    "    c= col\n",
    "    r= row\n",
    "    while c>=0 and r>=0:\n",
    "        if board[r][c]==\"Q\":\n",
    "            return False\n",
    "        r-=1\n",
    "        c-=1\n",
    "\n",
    "    # check left diagonal lower\n",
    "    c= col\n",
    "    r= row\n",
    "    while c>=0 and r<len(board):\n",
    "        if board[r][c]==\"Q\":\n",
    "            return False\n",
    "        r+=1\n",
    "        c-=1\n",
    "\n",
    "    return True\n",
    "\n",
    "\n",
    "def solve(col, board, ans):\n",
    "    if col==len(board):\n",
    "        ans.append([row[:] for row in board])\n",
    "        return\n",
    "    \n",
    "    for row in range(0,len(board)):\n",
    "        if isSafe(row, col, board):\n",
    "            board[row][col]= \"Q\"\n",
    "            solve(col+1,board,ans)\n",
    "            board[row][col]= \".\"\n",
    "\n",
    "board = [[\".\"] * 8 for _ in range(8)]\n",
    "ans = []\n",
    "solve(0, board, ans)\n",
    "print(ans)\n"
   ]
  },
  {
   "cell_type": "code",
   "execution_count": null,
   "metadata": {},
   "outputs": [
    {
     "name": "stdout",
     "output_type": "stream",
     "text": [
      "[['Q.......', '......Q.', '....Q...', '.......Q', '.Q......', '...Q....', '.....Q..', '..Q.....'], ['Q.......', '......Q.', '...Q....', '.....Q..', '.......Q', '.Q......', '....Q...', '..Q.....'], ['Q.......', '.....Q..', '.......Q', '..Q.....', '......Q.', '...Q....', '.Q......', '....Q...'], ['Q.......', '....Q...', '.......Q', '.....Q..', '..Q.....', '......Q.', '.Q......', '...Q....'], ['.....Q..', 'Q.......', '....Q...', '.Q......', '.......Q', '..Q.....', '......Q.', '...Q....'], ['...Q....', 'Q.......', '....Q...', '.......Q', '.Q......', '......Q.', '..Q.....', '.....Q..'], ['....Q...', 'Q.......', '.......Q', '...Q....', '.Q......', '......Q.', '..Q.....', '.....Q..'], ['..Q.....', 'Q.......', '......Q.', '....Q...', '.......Q', '.Q......', '...Q....', '.....Q..'], ['....Q...', 'Q.......', '...Q....', '.....Q..', '.......Q', '.Q......', '......Q.', '..Q.....'], ['......Q.', 'Q.......', '..Q.....', '.......Q', '.....Q..', '...Q....', '.Q......', '....Q...'], ['....Q...', 'Q.......', '.......Q', '.....Q..', '..Q.....', '......Q.', '.Q......', '...Q....'], ['...Q....', 'Q.......', '....Q...', '.......Q', '.....Q..', '..Q.....', '......Q.', '.Q......'], ['.Q......', '.....Q..', 'Q.......', '......Q.', '...Q....', '.......Q', '..Q.....', '....Q...'], ['....Q...', '..Q.....', 'Q.......', '......Q.', '.Q......', '.......Q', '.....Q..', '...Q....'], ['.......Q', '..Q.....', 'Q.......', '.....Q..', '.Q......', '....Q...', '......Q.', '...Q....'], ['...Q....', '.....Q..', 'Q.......', '....Q...', '.Q......', '.......Q', '..Q.....', '......Q.'], ['....Q...', '......Q.', 'Q.......', '...Q....', '.Q......', '.......Q', '.....Q..', '..Q.....'], ['.....Q..', '..Q.....', 'Q.......', '.......Q', '...Q....', '.Q......', '......Q.', '....Q...'], ['....Q...', '..Q.....', 'Q.......', '.....Q..', '.......Q', '.Q......', '...Q....', '......Q.'], ['.....Q..', '..Q.....', 'Q.......', '.......Q', '....Q...', '.Q......', '...Q....', '......Q.'], ['...Q....', '.......Q', 'Q.......', '..Q.....', '.....Q..', '.Q......', '......Q.', '....Q...'], ['.......Q', '...Q....', 'Q.......', '..Q.....', '.....Q..', '.Q......', '......Q.', '....Q...'], ['...Q....', '.......Q', 'Q.......', '....Q...', '......Q.', '.Q......', '.....Q..', '..Q.....'], ['...Q....', '......Q.', 'Q.......', '.......Q', '....Q...', '.Q......', '.....Q..', '..Q.....'], ['.....Q..', '...Q....', 'Q.......', '....Q...', '.......Q', '.Q......', '......Q.', '..Q.....'], ['.....Q..', '..Q.....', 'Q.......', '......Q.', '....Q...', '.......Q', '.Q......', '...Q....'], ['......Q.', '..Q.....', 'Q.......', '.....Q..', '.......Q', '....Q...', '.Q......', '...Q....'], ['....Q...', '......Q.', 'Q.......', '..Q.....', '.......Q', '.....Q..', '...Q....', '.Q......'], ['.Q......', '....Q...', '......Q.', 'Q.......', '..Q.....', '.......Q', '.....Q..', '...Q....'], ['.Q......', '.......Q', '.....Q..', 'Q.......', '..Q.....', '....Q...', '......Q.', '...Q....'], ['.....Q..', '.Q......', '......Q.', 'Q.......', '..Q.....', '....Q...', '.......Q', '...Q....'], ['......Q.', '.Q......', '...Q....', 'Q.......', '.......Q', '....Q...', '..Q.....', '.....Q..'], ['.......Q', '.Q......', '...Q....', 'Q.......', '......Q.', '....Q...', '..Q.....', '.....Q..'], ['....Q...', '.Q......', '.......Q', 'Q.......', '...Q....', '......Q.', '..Q.....', '.....Q..'], ['.....Q..', '.Q......', '......Q.', 'Q.......', '...Q....', '.......Q', '....Q...', '..Q.....'], ['....Q...', '.Q......', '.....Q..', 'Q.......', '......Q.', '...Q....', '.......Q', '..Q.....'], ['..Q.....', '....Q...', '......Q.', 'Q.......', '...Q....', '.Q......', '.......Q', '.....Q..'], ['.....Q..', '...Q....', '......Q.', 'Q.......', '.......Q', '.Q......', '....Q...', '..Q.....'], ['....Q...', '.......Q', '...Q....', 'Q.......', '......Q.', '.Q......', '.....Q..', '..Q.....'], ['..Q.....', '.....Q..', '.......Q', 'Q.......', '....Q...', '......Q.', '.Q......', '...Q....'], ['......Q.', '....Q...', '..Q.....', 'Q.......', '.....Q..', '.......Q', '.Q......', '...Q....'], ['.....Q..', '...Q....', '......Q.', 'Q.......', '..Q.....', '....Q...', '.Q......', '.......Q'], ['....Q...', '.......Q', '...Q....', 'Q.......', '..Q.....', '.....Q..', '.Q......', '......Q.'], ['..Q.....', '.....Q..', '...Q....', 'Q.......', '.......Q', '....Q...', '......Q.', '.Q......'], ['..Q.....', '.....Q..', '.......Q', 'Q.......', '...Q....', '......Q.', '....Q...', '.Q......'], ['....Q...', '......Q.', '...Q....', 'Q.......', '..Q.....', '.......Q', '.....Q..', '.Q......'], ['.Q......', '.....Q..', '.......Q', '..Q.....', 'Q.......', '...Q....', '......Q.', '....Q...'], ['.Q......', '....Q...', '......Q.', '...Q....', 'Q.......', '.......Q', '.....Q..', '..Q.....'], ['.Q......', '......Q.', '....Q...', '.......Q', 'Q.......', '...Q....', '.....Q..', '..Q.....'], ['......Q.', '.Q......', '.....Q..', '..Q.....', 'Q.......', '...Q....', '.......Q', '....Q...'], ['.......Q', '.Q......', '....Q...', '..Q.....', 'Q.......', '......Q.', '...Q....', '.....Q..'], ['...Q....', '.Q......', '.......Q', '.....Q..', 'Q.......', '..Q.....', '....Q...', '......Q.'], ['...Q....', '.Q......', '......Q.', '....Q...', 'Q.......', '.......Q', '.....Q..', '..Q.....'], ['..Q.....', '.....Q..', '.Q......', '......Q.', 'Q.......', '...Q....', '.......Q', '....Q...'], ['..Q.....', '....Q...', '.Q......', '.......Q', 'Q.......', '......Q.', '...Q....', '.....Q..'], ['.....Q..', '.......Q', '.Q......', '...Q....', 'Q.......', '......Q.', '....Q...', '..Q.....'], ['..Q.....', '.......Q', '...Q....', '......Q.', 'Q.......', '.....Q..', '.Q......', '....Q...'], ['..Q.....', '....Q...', '.......Q', '...Q....', 'Q.......', '......Q.', '.Q......', '.....Q..'], ['.....Q..', '..Q.....', '......Q.', '...Q....', 'Q.......', '.......Q', '.Q......', '....Q...'], ['.....Q..', '..Q.....', '....Q...', '......Q.', 'Q.......', '...Q....', '.Q......', '.......Q'], ['.....Q..', '..Q.....', '....Q...', '.......Q', 'Q.......', '...Q....', '.Q......', '......Q.'], ['...Q....', '.......Q', '....Q...', '..Q.....', 'Q.......', '......Q.', '.Q......', '.....Q..'], ['...Q....', '......Q.', '....Q...', '..Q.....', 'Q.......', '.....Q..', '.......Q', '.Q......'], ['...Q....', '.....Q..', '.......Q', '..Q.....', 'Q.......', '......Q.', '....Q...', '.Q......'], ['.Q......', '...Q....', '.....Q..', '.......Q', '..Q.....', 'Q.......', '......Q.', '....Q...'], ['...Q....', '.Q......', '....Q...', '.......Q', '.....Q..', 'Q.......', '..Q.....', '......Q.'], ['...Q....', '.Q......', '.......Q', '....Q...', '......Q.', 'Q.......', '..Q.....', '.....Q..'], ['..Q.....', '......Q.', '.Q......', '.......Q', '....Q...', 'Q.......', '...Q....', '.....Q..'], ['..Q.....', '.....Q..', '.Q......', '....Q...', '.......Q', 'Q.......', '......Q.', '...Q....'], ['..Q.....', '.....Q..', '.Q......', '......Q.', '....Q...', 'Q.......', '.......Q', '...Q....'], ['....Q...', '......Q.', '.Q......', '.....Q..', '..Q.....', 'Q.......', '...Q....', '.......Q'], ['....Q...', '......Q.', '.Q......', '.....Q..', '..Q.....', 'Q.......', '.......Q', '...Q....'], ['......Q.', '...Q....', '.Q......', '....Q...', '.......Q', 'Q.......', '..Q.....', '.....Q..'], ['......Q.', '...Q....', '.Q......', '.......Q', '.....Q..', 'Q.......', '..Q.....', '....Q...'], ['....Q...', '......Q.', '.Q......', '...Q....', '.......Q', 'Q.......', '..Q.....', '.....Q..'], ['..Q.....', '.....Q..', '.......Q', '.Q......', '...Q....', 'Q.......', '......Q.', '....Q...'], ['......Q.', '..Q.....', '.......Q', '.Q......', '....Q...', 'Q.......', '.....Q..', '...Q....'], ['...Q....', '......Q.', '....Q...', '.Q......', '.....Q..', 'Q.......', '..Q.....', '.......Q'], ['...Q....', '.....Q..', '.......Q', '.Q......', '......Q.', 'Q.......', '..Q.....', '....Q...'], ['....Q...', '..Q.....', '.......Q', '...Q....', '......Q.', 'Q.......', '.....Q..', '.Q......'], ['.Q......', '......Q.', '..Q.....', '.....Q..', '.......Q', '....Q...', 'Q.......', '...Q....'], ['...Q....', '.Q......', '......Q.', '..Q.....', '.....Q..', '.......Q', 'Q.......', '....Q...'], ['....Q...', '.Q......', '...Q....', '.....Q..', '.......Q', '..Q.....', 'Q.......', '......Q.'], ['..Q.....', '......Q.', '.Q......', '.......Q', '.....Q..', '...Q....', 'Q.......', '....Q...'], ['.....Q..', '...Q....', '.Q......', '.......Q', '....Q...', '......Q.', 'Q.......', '..Q.....'], ['.....Q..', '..Q.....', '......Q.', '.Q......', '...Q....', '.......Q', 'Q.......', '....Q...'], ['.....Q..', '..Q.....', '......Q.', '.Q......', '.......Q', '....Q...', 'Q.......', '...Q....'], ['...Q....', '......Q.', '..Q.....', '.......Q', '.Q......', '....Q...', 'Q.......', '.....Q..'], ['...Q....', '.Q......', '......Q.', '..Q.....', '.....Q..', '.......Q', '....Q...', 'Q.......'], ['....Q...', '.Q......', '...Q....', '......Q.', '..Q.....', '.......Q', '.....Q..', 'Q.......'], ['..Q.....', '....Q...', '.Q......', '.......Q', '.....Q..', '...Q....', '......Q.', 'Q.......'], ['..Q.....', '.....Q..', '...Q....', '.Q......', '.......Q', '....Q...', '......Q.', 'Q.......']]\n"
     ]
    },
    {
     "name": "stderr",
     "output_type": "stream",
     "text": [
      "Bad pipe message: %s [b'(Windows NT; Windows NT 10.0; en-IN) WindowsPow']\n",
      "Bad pipe message: %s [b'(Windows NT; Windows NT 10.0; en-IN) WindowsPow']\n",
      "Bad pipe message: %s [b\"iW&[\\x83=\\xea@\\x85\\xd75\\xa8\\xd5\\xa822\\xbfc\\x00\\x00*\\xc0,\\xc0+\\xc00\\xc0/\\x00\\x9f\\x00\\x9e\\xc0$\\xc0#\\xc0(\\xc0'\\xc0\\n\\xc0\\t\\xc0\\x14\\xc0\\x13\\x00\\x9d\\x00\\x9c\\x00=\\x00<\\x005\\x00/\\x00\\n\\x01\\x00\\x00=\\x00\\n\\x00\\x08\\x00\\x06\\x00\\x1d\\x00\\x17\\x00\\x18\\x00\\x0b\\x00\\x02\\x01\\x00\\x00\\r\\x00\\x1a\\x00\\x18\\x08\\x04\\x08\\x05\\x08\\x06\\x04\\x01\\x05\\x01\\x02\"]\n",
      "Bad pipe message: %s [b'']\n",
      "Bad pipe message: %s [b'\\x03\\x02', b'\\x02\\x06']\n",
      "Bad pipe message: %s [b'']\n",
      "Bad pipe message: %s [b'#\\x00']\n"
     ]
    }
   ],
   "source": [
    "# N Queens Optimized\n",
    "\n",
    "def solve(col, board, ans, leftRow, leftDiagUpper, leftDiagLower):\n",
    "    if col == len(board):\n",
    "        ans.append([\"\".join(row) for row in board])\n",
    "        return\n",
    "    \n",
    "    for row in range(len(board)):\n",
    "        if row not in leftRow and (row + col) not in leftDiagLower and (row - col) not in leftDiagUpper:\n",
    "            leftRow.add(row)\n",
    "            leftDiagLower.add(row + col)\n",
    "            leftDiagUpper.add(row - col)\n",
    "            board[row][col] = \"Q\"\n",
    "            \n",
    "            solve(col + 1, board, ans, leftRow, leftDiagUpper, leftDiagLower)\n",
    "            \n",
    "            board[row][col] = \".\"\n",
    "            leftRow.remove(row)\n",
    "            leftDiagLower.remove(row + col)\n",
    "            leftDiagUpper.remove(row - col)\n",
    "\n",
    "board = [[\".\"] * 8 for _ in range(8)]\n",
    "ans = []\n",
    "solve(0, board, ans, set(), set(), set())\n",
    "print(ans)"
   ]
  },
  {
   "cell_type": "code",
   "execution_count": null,
   "metadata": {},
   "outputs": [
    {
     "name": "stdout",
     "output_type": "stream",
     "text": [
      "[['5', '3', '4', '6', '7', '8', '9', '1', '2'], ['6', '7', '2', '1', '9', '5', '3', '4', '8'], ['1', '9', '8', '3', '4', '2', '5', '6', '7'], ['8', '5', '9', '7', '6', '1', '4', '2', '3'], ['4', '2', '6', '8', '5', '3', '7', '9', '1'], ['7', '1', '3', '9', '2', '4', '8', '5', '6'], ['9', '6', '1', '5', '3', '7', '2', '8', '4'], ['2', '8', '7', '4', '1', '9', '6', '3', '5'], ['3', '4', '5', '2', '8', '6', '1', '7', '9']]\n"
     ]
    }
   ],
   "source": [
    "# Sudoku Solver\n",
    "\n",
    "def isValid(row, col, board, ch):\n",
    "    for i in range(9):\n",
    "        if board[row][i]==ch:\n",
    "            return False\n",
    "        if board[i][col]==ch:\n",
    "            return False\n",
    "        if board[(row//3)*3 + (i//3)][(col//3)*3 + (i%3)]==ch:\n",
    "            return False\n",
    "    return True\n",
    "\n",
    "def solve(board):\n",
    "    for row in range(len(board)):\n",
    "        for col in range(len(board[0])):\n",
    "            if board[row][col]==\".\":\n",
    "                for num in range(1,10):\n",
    "                    ch= str(num)\n",
    "                    if isValid(row, col, board, ch):\n",
    "                        board[row][col]= ch\n",
    "                        if solve(board):\n",
    "                            return True\n",
    "                        board[row][col]= \".\"\n",
    "                return False\n",
    "    return True\n",
    "\n",
    "board = [\n",
    "    [\"5\",\"3\",\".\",\".\",\"7\",\".\",\".\",\".\",\".\"],\n",
    "    [\"6\",\".\",\".\",\"1\",\"9\",\"5\",\".\",\".\",\".\"],\n",
    "    [\".\",\"9\",\"8\",\".\",\".\",\".\",\".\",\"6\",\".\"],\n",
    "    [\"8\",\".\",\".\",\".\",\"6\",\".\",\".\",\".\",\"3\"],\n",
    "    [\"4\",\".\",\".\",\"8\",\".\",\"3\",\".\",\".\",\"1\"],\n",
    "    [\"7\",\".\",\".\",\".\",\"2\",\".\",\".\",\".\",\"6\"],\n",
    "    [\".\",\"6\",\".\",\".\",\".\",\".\",\"2\",\"8\",\".\"],\n",
    "    [\".\",\".\",\".\",\"4\",\"1\",\"9\",\".\",\".\",\"5\"],\n",
    "    [\".\",\".\",\".\",\".\",\"8\",\".\",\".\",\"7\",\"9\"]]\n",
    "\n",
    "solve(board)\n",
    "print(board)"
   ]
  },
  {
   "cell_type": "code",
   "execution_count": null,
   "metadata": {},
   "outputs": [],
   "source": [
    "# M-coloring problem\n",
    "\n",
    "def isSafe(node, col, adj, color):\n",
    "    for neighbour in adj[node]:\n",
    "        if color[neighbour]==col:\n",
    "            return False\n",
    "    return True\n",
    "    \n",
    "    \n",
    "def solve(node, adj, color, v, m):\n",
    "    if node==v:\n",
    "        return True\n",
    "        \n",
    "    for col in range(1,m+1):\n",
    "        if isSafe(node, col, adj, color):\n",
    "            color[node]= col\n",
    "            if solve(node+1, adj, color, v, m)==True:\n",
    "                return True\n",
    "            color[node]= 0\n",
    "    return False\n",
    "            \n",
    "def graphColoring(v, edges, m):\n",
    "    # create adjacent matrix\n",
    "    adj= [[] for _ in range(v)]\n",
    "    for u,w in edges:\n",
    "        adj[u].append(w)\n",
    "        adj[w].append(u)\n",
    "    \n",
    "    # create a color hash\n",
    "    color= [0] * v\n",
    "    \n",
    "    return solve(0, adj, color, v, m)"
   ]
  },
  {
   "cell_type": "code",
   "execution_count": null,
   "metadata": {},
   "outputs": [
    {
     "name": "stdout",
     "output_type": "stream",
     "text": [
      "[['a', 'a', 'b'], ['aa', 'b']]\n"
     ]
    }
   ],
   "source": [
    "# Palindrome Patitioning\n",
    "\n",
    "def solve(index, s, partition, ans):\n",
    "    if index==len(s):\n",
    "        ans.append(partition[:])\n",
    "        return\n",
    "    \n",
    "    for i in range(index, len(s)):\n",
    "        sub= s[index:i+1]\n",
    "        if sub==sub[::-1]:\n",
    "            partition.append(sub)\n",
    "            solve(i+1, s, partition, ans)\n",
    "            partition.pop()\n",
    "\n",
    "\n",
    "s = \"aab\"\n",
    "ans= []\n",
    "solve(0, s, [], ans)\n",
    "print(ans)\n",
    "\n",
    "# Time Complexity: O((2^n) *k*(n/2)) for gen palindrome and inserting them into ans list\n",
    "# Space Complexity: O(k * x) k= avg len of palindrome, x= no of palindromes"
   ]
  },
  {
   "cell_type": "code",
   "execution_count": null,
   "metadata": {},
   "outputs": [
    {
     "name": "stdout",
     "output_type": "stream",
     "text": [
      "['DDRDRR', 'DRDDRR']\n"
     ]
    }
   ],
   "source": [
    "# Rat in a Maze\n",
    "\n",
    "def solve(i, j, mat, vis, path, ans):\n",
    "        if i<0 or j<0 or i==len(mat) or j==len(mat[0]) or mat[i][j]==0 or vis[i][j]==1:\n",
    "            return\n",
    "        \n",
    "        if i==len(mat)-1 and j==len(mat[0])-1:\n",
    "            ans.append(path)\n",
    "            return\n",
    "        \n",
    "        vis[i][j]= 1\n",
    "\n",
    "        directions = [(1, 0, \"D\"), (0, -1, \"L\"), (0, 1, \"R\"), (-1, 0, \"U\")]\n",
    "        \n",
    "        for dx, dy, move in directions:\n",
    "            solve(i + dx, j + dy, mat, vis, path + move, ans)\n",
    "            \n",
    "        vis[i][j]= 0\n",
    "            \n",
    "def findPath(mat):\n",
    "    ans= []\n",
    "    vis = [[0] * len(mat[0]) for _ in range(len(mat))]\n",
    "    solve(0, 0, mat, vis, \"\", ans)\n",
    "    return ans\n",
    "\n",
    "\n",
    "maze = [[1, 0, 0, 0], [1, 1, 0, 1], [1, 1, 0, 0], [0, 1, 1, 1]]\n",
    "print(findPath(maze))"
   ]
  },
  {
   "cell_type": "code",
   "execution_count": null,
   "metadata": {},
   "outputs": [
    {
     "name": "stdout",
     "output_type": "stream",
     "text": [
      "213\n"
     ]
    }
   ],
   "source": [
    "# K-th permutation\n",
    "\n",
    "def solve(n, k):\n",
    "    fact= 1\n",
    "    nums= []\n",
    "\n",
    "    for i in range(1,n):\n",
    "        fact= fact*i\n",
    "        nums.append(i)\n",
    "\n",
    "    nums.append(n)\n",
    "    k= k-1\n",
    "    ans= \"\"\n",
    "\n",
    "    while True:\n",
    "        group= k//fact\n",
    "        ans+= str(nums[group])\n",
    "        nums.pop(group)\n",
    "        if len(nums)==0:\n",
    "            break\n",
    "        k= k%fact\n",
    "        fact= fact//len(nums)\n",
    "\n",
    "    return ans\n",
    "\n",
    "print(solve(3,3))\n",
    "\n",
    "# T.C = O(n)"
   ]
  },
  {
   "cell_type": "code",
   "execution_count": 4,
   "metadata": {},
   "outputs": [
    {
     "name": "stdout",
     "output_type": "stream",
     "text": [
      "['1+2+3', '1*2*3']\n"
     ]
    }
   ],
   "source": [
    "# expression and operators\n",
    "\n",
    "def solve(index, num, expression, curr_val, prev_val, target, result):\n",
    "        if index == len(num) and curr_val == target:\n",
    "            result.append(expression)\n",
    "            return\n",
    "        \n",
    "        if index == len(num):\n",
    "            return\n",
    "        \n",
    "        for i in range(index, len(num)):\n",
    "            # remove trailing zeros\n",
    "            if index != i and num[index] == '0':\n",
    "                break\n",
    "                \n",
    "            # Get the current number\n",
    "            curr_num = int(num[index:i+1])\n",
    "            \n",
    "            # If it's the first digit, no operation to perform yet\n",
    "            if index == 0:\n",
    "                solve(i+1, num, expression + str(curr_num), curr_num, curr_num, target, result)\n",
    "            else:\n",
    "                # Addition\n",
    "                solve(i+1, num, expression + \"+\" + str(curr_num), curr_val + curr_num, curr_num, target, result)\n",
    "                \n",
    "                # Subtraction\n",
    "                solve(i+1, num, expression + \"-\" + str(curr_num), curr_val - curr_num, -curr_num, target, result)\n",
    "                \n",
    "                # Multiplication: need to adjust for operator precedence\n",
    "                # We subtract the previous value, then add (previous value * current number)\n",
    "                solve(i+1, num, expression + \"*\" + str(curr_num), \n",
    "                           curr_val - prev_val + (prev_val * curr_num), \n",
    "                           prev_val * curr_num, target, result)\n",
    "                \n",
    "num= \"123\"\n",
    "target= 6\n",
    "ans= []\n",
    "solve(0, num, \"\", 0, 0, target, ans)\n",
    "print(ans)"
   ]
  }
 ],
 "metadata": {
  "kernelspec": {
   "display_name": "venv",
   "language": "python",
   "name": "python3"
  },
  "language_info": {
   "codemirror_mode": {
    "name": "ipython",
    "version": 3
   },
   "file_extension": ".py",
   "mimetype": "text/x-python",
   "name": "python",
   "nbconvert_exporter": "python",
   "pygments_lexer": "ipython3",
   "version": "3.12.3"
  }
 },
 "nbformat": 4,
 "nbformat_minor": 2
}
