{
 "cells": [
  {
   "cell_type": "markdown",
   "id": "901b2de0",
   "metadata": {},
   "source": [
    "## Dynamic Programming\n",
    "\n",
    "```\n",
    "those who cannot remember the past are condemned to repeat it.\n",
    "```"
   ]
  },
  {
   "cell_type": "code",
   "execution_count": null,
   "id": "d0fe6ca4",
   "metadata": {},
   "outputs": [
    {
     "name": "stdout",
     "output_type": "stream",
     "text": [
      "5\n"
     ]
    }
   ],
   "source": [
    "# fibonacci series\n",
    "\n",
    "# naive recursive implementation\n",
    "def fibonacci(n):\n",
    "    if n <= 0:\n",
    "        return 0\n",
    "    elif n == 1:\n",
    "        return 1\n",
    "    else:\n",
    "        return fibonacci(n - 1) + fibonacci(n - 2)\n",
    "\n",
    "print(5)\n",
    "\n",
    "# Time complexity: O(2^n)\n",
    "# Space complexity: O(n) due to recursion stack"
   ]
  },
  {
   "cell_type": "markdown",
   "id": "1021bceb",
   "metadata": {},
   "source": [
    "problem with recursion is that it can be inefficient for problems with overlapping subproblems\n",
    "\n",
    "ex - \n",
    "```\n",
    "       fib(5)\n",
    "       /    \\\n",
    "    fib(4)   fib(3)\n",
    "    /    \\       / \\\n",
    "fib(3) fib(2) fib(2) fib(1)\n",
    "/     \\       /     \\\n",
    "fib(2) fib(1) fib(1) fib(0)\n",
    "```\n",
    "\n",
    "as we can see fib(2) and fib(1) are computed multiple times, we can store the results in map/table and reuse them when needed"
   ]
  },
  {
   "cell_type": "code",
   "execution_count": null,
   "id": "3e6bb655",
   "metadata": {},
   "outputs": [
    {
     "name": "stdout",
     "output_type": "stream",
     "text": [
      "5\n"
     ]
    }
   ],
   "source": [
    "# memoization implementation\n",
    "\n",
    "def fibonacci_memo(n, dp):\n",
    "    # check if the result is already computed\n",
    "    # and stored in the dp array \n",
    "    if dp[n] != -1:\n",
    "        return dp[n]\n",
    "    if n <= 0:\n",
    "        return 0\n",
    "    elif n == 1:\n",
    "        return 1\n",
    "    else:\n",
    "        dp[n] = fibonacci_memo(n - 1, dp) + fibonacci_memo(n - 2, dp)\n",
    "        return dp[n]\n",
    "    \n",
    "dp = [-1] * 6\n",
    "print(fibonacci_memo(5, dp))\n",
    "\n",
    "# Time complexity: O(n)\n",
    "# Space complexity: O(n) for memoization storage"
   ]
  },
  {
   "cell_type": "markdown",
   "id": "0f7b2d5a",
   "metadata": {},
   "source": [
    "if we travel in bottom-up manner, we can avoid recursion altogether, this is called tabulation, it can help us optimize space complexity by reducing the stack space used by recursion"
   ]
  },
  {
   "cell_type": "code",
   "execution_count": null,
   "id": "636d7a82",
   "metadata": {},
   "outputs": [],
   "source": [
    "# tabulation implementation\n",
    "\n",
    "def fibonacci_tab(n):\n",
    "    if n <= 0:\n",
    "        return 0\n",
    "    elif n == 1:\n",
    "        return 1\n",
    "    \n",
    "    fib = [0] * (n + 1)\n",
    "    fib[1] = 1\n",
    "    \n",
    "    for i in range(2, n + 1):\n",
    "        fib[i] = fib[i - 1] + fib[i - 2]\n",
    "    \n",
    "    return fib[n]\n",
    "\n",
    "print(fibonacci_tab(5))\n",
    "\n",
    "# Time complexity: O(n)\n",
    "# Space complexity: O(n) for the array"
   ]
  },
  {
   "cell_type": "code",
   "execution_count": 4,
   "id": "fca4ed77",
   "metadata": {},
   "outputs": [
    {
     "name": "stdout",
     "output_type": "stream",
     "text": [
      "5\n"
     ]
    }
   ],
   "source": [
    "# space optimized tabulation implementation\n",
    "\n",
    "def fibonacci_space_optimized(n):\n",
    "    if n <= 0:\n",
    "        return 0\n",
    "    elif n == 1:\n",
    "        return 1\n",
    "    \n",
    "    prev2 = 0\n",
    "    prev1 = 1\n",
    "    \n",
    "    for i in range(2, n + 1):\n",
    "        current = prev1 + prev2\n",
    "        prev2 = prev1\n",
    "        prev1 = current\n",
    "    \n",
    "    return prev1\n",
    "\n",
    "print(fibonacci_space_optimized(5))\n",
    "\n",
    "# Time complexity: O(n)\n",
    "# Space complexity: O(1) since we are using only a constant amount of space"
   ]
  },
  {
   "cell_type": "markdown",
   "id": "8c7192e8",
   "metadata": {},
   "source": [
    "so, recursion --> memoization --> tabulation --> space optimization"
   ]
  },
  {
   "cell_type": "markdown",
   "id": "d16bd0f2",
   "metadata": {},
   "source": [
    "### 1D DP"
   ]
  },
  {
   "cell_type": "code",
   "execution_count": null,
   "id": "bebf1042",
   "metadata": {},
   "outputs": [],
   "source": [
    "# 1. climbing stairs\n",
    "\n",
    "# recursion\n",
    "\n",
    "def climbStairs(n):\n",
    "    if n==2 or n==1:\n",
    "        return n\n",
    "\n",
    "    return climbStairs(n-1) + climbStairs(n-2)\n",
    "\n",
    "# T.C = O(2^n)\n",
    "# S.C = O(n)"
   ]
  },
  {
   "cell_type": "code",
   "execution_count": null,
   "id": "922abeda",
   "metadata": {},
   "outputs": [],
   "source": [
    "# memoization\n",
    "\n",
    "def solve(i, dp):\n",
    "    if i<=2:\n",
    "        return i\n",
    "\n",
    "    if dp[i]!=-1:\n",
    "        return dp[i]\n",
    "\n",
    "    dp[i]= solve(i-1, dp) + solve(i-2, dp)\n",
    "    return dp[i]\n",
    "\n",
    "# T.C = O(n)\n",
    "# S.C = 0(n)"
   ]
  },
  {
   "cell_type": "code",
   "execution_count": null,
   "id": "51834b7b",
   "metadata": {},
   "outputs": [],
   "source": [
    "# tabulation\n",
    "\n",
    "def climbStairs(n):\n",
    "    if n<=2:\n",
    "        return n\n",
    "    dp= [-1] * (n+1)\n",
    "    dp[1], dp[2]= 1, 2\n",
    "    for i in range(3, n+1):\n",
    "        dp[i]= dp[i-1] + dp[i-2]\n",
    "    return dp[n]\n",
    "\n",
    "# T.C = O(n)\n",
    "# no recursion stack space"
   ]
  },
  {
   "cell_type": "code",
   "execution_count": null,
   "id": "6a2b0c8b",
   "metadata": {},
   "outputs": [],
   "source": [
    "# space optimization\n",
    "\n",
    "def climbStairs(n):\n",
    "    if n<=2:\n",
    "        return n\n",
    "    prev1, prev2, curr= 2, 1, -1\n",
    "    for _ in range(3, n+1):\n",
    "        curr= prev1 + prev2\n",
    "        prev2= prev1\n",
    "        prev1= curr\n",
    "    return curr\n",
    "\n",
    "# T.C = O(n)\n",
    "# S.C = O(1)\n"
   ]
  },
  {
   "cell_type": "code",
   "execution_count": null,
   "id": "3f1c9965",
   "metadata": {},
   "outputs": [],
   "source": [
    "# 2. frog jump\n",
    "\n",
    "# recursion\n",
    "\n",
    "import sys\n",
    "def solve(i, height):\n",
    "    if i==len(height)-1:\n",
    "        return 0\n",
    "    way1, way2= sys.maxsize, sys.maxsize\n",
    "    if i+1<=len(height)-1:\n",
    "        way1= abs(height[i+1]-height[i]) + solve(i+1, height)\n",
    "    if i+2<=len(height)-1:\n",
    "        way2= abs(height[i+2]-height[i]) + solve(i+2, height)\n",
    "    return min(way1, way2)\n",
    "        \n",
    "        \n",
    "def minCost(height):\n",
    "    return solve(0, height)\n"
   ]
  },
  {
   "cell_type": "code",
   "execution_count": null,
   "id": "1196be8a",
   "metadata": {},
   "outputs": [],
   "source": [
    "# memoization\n",
    "\n",
    "def solve(self, i, height, dp):\n",
    "    if i==len(height)-1:\n",
    "        return 0\n",
    "        \n",
    "    if dp[i]!=-1:\n",
    "        return dp[i]\n",
    "        \n",
    "    way1, way2= sys.maxsize, sys.maxsize\n",
    "    if i+1<=len(height)-1:\n",
    "        way1= abs(height[i+1]-height[i]) + self.solve(i+1, height, dp)\n",
    "    if i+2<=len(height)-1:\n",
    "        way2= abs(height[i+2]-height[i]) + self.solve(i+2, height, dp)\n",
    "    \n",
    "        \n",
    "    dp[i]= min(way1, way2)\n",
    "    return dp[i]\n",
    "        \n",
    "        \n",
    "def minCost(self, height):\n",
    "    n= len(height)\n",
    "    dp= [-1] * n\n",
    "    return self.solve(0, height, dp)"
   ]
  },
  {
   "cell_type": "code",
   "execution_count": null,
   "id": "5f3ff9ec",
   "metadata": {},
   "outputs": [],
   "source": [
    "# tabulation\n",
    "\n",
    "def minCost(self, height):\n",
    "    n= len(height)\n",
    "    dp= [-1] * n\n",
    "    dp[n-1]= 0\n",
    "    for i in range(n-2, -1, -1):\n",
    "        way1, way2= sys.maxsize, sys.maxsize\n",
    "        if i+1<=n-1:\n",
    "            way1= abs(height[i+1]-height[i]) + dp[i+1]\n",
    "        if i+2<=n-1:\n",
    "            way2= abs(height[i+2]-height[i]) + dp[i+2]\n",
    "        dp[i]= min(way1, way2)\n",
    "    return dp[0]"
   ]
  },
  {
   "cell_type": "code",
   "execution_count": null,
   "id": "25e93479",
   "metadata": {},
   "outputs": [],
   "source": [
    "# 3. frog jumps with k distance\n",
    "\n",
    "# recursion\n",
    "\n",
    "def solve(self, i, heights, k):\n",
    "    n= len(heights)\n",
    "    if i==n-1:\n",
    "        return 0\n",
    "\n",
    "    mini= sys.maxsize\n",
    "    for j in range(i+1, i+k+1):\n",
    "        if j<=n-1:\n",
    "            mini= min(mini, abs(heights[j]-heights[i]) + self.solve(j, heights, k))\n",
    "    return mini\n",
    "\n",
    "def frogJump(self, heights, k):\n",
    "    return self.solve(0, heights, k)"
   ]
  },
  {
   "cell_type": "code",
   "execution_count": null,
   "id": "3f36050a",
   "metadata": {},
   "outputs": [],
   "source": [
    "# memoization\n",
    "\n",
    "def solve(self, i, heights, k, dp):\n",
    "    n= len(heights)\n",
    "    if i==n-1:\n",
    "        return 0\n",
    "\n",
    "    if dp[i]!=-1:\n",
    "        return dp[i]\n",
    "\n",
    "    mini= sys.maxsize\n",
    "    for j in range(i+1, i+k+1):\n",
    "        if j<=n-1:\n",
    "            mini= min(mini, abs(heights[j]-heights[i]) + self.solve(j, heights, k, dp))\n",
    "    dp[i]= mini\n",
    "    return dp[i]\n",
    "\n",
    "def frogJump(self, heights, k):\n",
    "    n= len(heights)\n",
    "    dp= [-1] * n\n",
    "    return self.solve(0, heights, k, dp)"
   ]
  },
  {
   "cell_type": "code",
   "execution_count": null,
   "id": "a007293d",
   "metadata": {},
   "outputs": [],
   "source": [
    "# tabulation\n",
    "\n",
    "def frogJump(self, heights, k):\n",
    "    n= len(heights)\n",
    "    dp= [-1] * n\n",
    "    dp[n-1]= 0\n",
    "    for i in range(n-2, -1, -1):\n",
    "        mini= sys.maxsize\n",
    "        for j in range(i+1, i+k+1):\n",
    "            if j<=n-1:\n",
    "                mini= min(mini, abs(heights[j]-heights[i]) + dp[j])\n",
    "        dp[i]= mini\n",
    "    return dp[0]"
   ]
  },
  {
   "cell_type": "code",
   "execution_count": null,
   "id": "1a7d7547",
   "metadata": {},
   "outputs": [],
   "source": [
    "# 4. house robber\n",
    "\n",
    "# recursion\n",
    "\n",
    "def solve(self, i, nums):\n",
    "    n= len(nums)\n",
    "    if i>=n:\n",
    "        return 0\n",
    "    \n",
    "    rob= nums[i] + self.solve(i+2, nums)\n",
    "    notRob= self.solve(i+1, nums)\n",
    "\n",
    "    return max(rob, notRob)\n",
    "\n",
    "def rob(self, nums) -> int:\n",
    "    return self.solve(0, nums)\n"
   ]
  },
  {
   "cell_type": "code",
   "execution_count": null,
   "id": "a6948c2c",
   "metadata": {},
   "outputs": [],
   "source": [
    "# memoization\n",
    "\n",
    "def solve(self, i, nums, dp):\n",
    "    n= len(nums)\n",
    "    if i>=n:\n",
    "        return 0\n",
    "\n",
    "    if dp[i]!=-1:\n",
    "        return dp[i]\n",
    "    \n",
    "    rob= nums[i] + self.solve(i+2, nums, dp)\n",
    "    notRob= self.solve(i+1, nums, dp)\n",
    "\n",
    "    dp[i]= max(rob, notRob)\n",
    "    return dp[i]\n",
    "\n",
    "def rob(self, nums) -> int:\n",
    "    n= len(nums)\n",
    "    dp= [-1] * n\n",
    "    return self.solve(0, nums, dp)"
   ]
  },
  {
   "cell_type": "code",
   "execution_count": null,
   "id": "9a67d71f",
   "metadata": {},
   "outputs": [],
   "source": [
    "# tabulation\n",
    "\n",
    "def rob(nums) -> int:\n",
    "    n= len(nums)\n",
    "    dp= [-1] * (n+2)\n",
    "    dp[n], dp[n+1] = 0, 0\n",
    "\n",
    "    for i in range(n-1, -1, -1):\n",
    "        rob= nums[i] + dp[i+2]\n",
    "        notRob= dp[i+1]\n",
    "\n",
    "        dp[i]= max(rob, notRob)\n",
    "\n",
    "    return dp[0]"
   ]
  },
  {
   "cell_type": "code",
   "execution_count": null,
   "id": "6ab39812",
   "metadata": {},
   "outputs": [],
   "source": [
    "# 5. house robber 2\n",
    "\n",
    "# diff - houses are in a circle\n",
    "\n",
    "def rob(self, nums) -> int:\n",
    "    n= len(nums)\n",
    "    if n==1:\n",
    "        return nums[0]\n",
    "\n",
    "    dp= [-1] * (n+2)\n",
    "    dp[n], dp[n+1] = 0, 0\n",
    "\n",
    "    for i in range(n-1, 0, -1):\n",
    "        rob= nums[i] + dp[i+2]\n",
    "        notRob= dp[i+1]\n",
    "\n",
    "        dp[i]= max(rob, notRob)\n",
    "\n",
    "    dp2= [-1] * (n+2)\n",
    "    dp2[n], dp2[n-1] = 0, 0\n",
    "    for i in range(n-2, -1, -1):\n",
    "        rob= nums[i] + dp2[i+2]\n",
    "        notRob= dp2[i+1]\n",
    "\n",
    "        dp2[i]= max(rob, notRob)\n",
    "\n",
    "    return max(dp[1], dp2[0])"
   ]
  },
  {
   "cell_type": "markdown",
   "id": "fa4d0cb2",
   "metadata": {},
   "source": [
    "### 2D DP"
   ]
  },
  {
   "cell_type": "code",
   "execution_count": null,
   "id": "85fb10cc",
   "metadata": {},
   "outputs": [],
   "source": [
    "# 1. ninja's training\n",
    "\n",
    "# recursion\n",
    "\n",
    "def solve(i, last, points):\n",
    "    if i==len(points):\n",
    "        return 0\n",
    "    \n",
    "    maxi= -sys.maxsize-1\n",
    "    for j in range(3):\n",
    "        if j!=last:\n",
    "            maxi= max(maxi, points[i][j] + solve(i+1, j, points))\n",
    "    return maxi\n",
    "\n",
    "def ninjaTraining(n: int, points: List[List[int]]) -> int:\n",
    "    return solve(0, -1, points)\n",
    "\n",
    "# T.C = O(3^n)\n",
    "# S.C = O(n) for recursion stack"
   ]
  },
  {
   "cell_type": "code",
   "execution_count": null,
   "id": "eecf1cd1",
   "metadata": {},
   "outputs": [],
   "source": [
    "# memoization\n",
    "\n",
    "def solve(i, last, points, dp):\n",
    "    if i==len(points):\n",
    "        return 0\n",
    "\n",
    "    if dp[i][last]!=-1:\n",
    "        return dp[i][last]\n",
    "    \n",
    "    maxi= -sys.maxsize-1\n",
    "    for j in range(3):\n",
    "        if j!=last:\n",
    "            maxi= max(maxi, points[i][j] + solve(i+1, j, points, dp))\n",
    "    dp[i][last]= maxi\n",
    "    return maxi\n",
    "\n",
    "def ninjaTraining(n: int, points: List[List[int]]) -> int:\n",
    "    n= len(points)\n",
    "    dp= [[-1] * 4 for _ in range(n)]\n",
    "    return solve(0, 3, points, dp)\n",
    "\n",
    "# T.C = O(n * 3 * 3) = O(n)\n",
    "# S.C = O(n) for recursion stack + O(n * 3) for dp"
   ]
  },
  {
   "cell_type": "code",
   "execution_count": null,
   "id": "f16f7fcf",
   "metadata": {},
   "outputs": [],
   "source": [
    "# tabulation\n",
    "\n",
    "def ninjaTraining(n: int, points: List[List[int]]) -> int:\n",
    "    n= len(points)\n",
    "    dp= [[-1] * 4 for _ in range(n+1)]\n",
    "    for i in range(3):\n",
    "        dp[n][i]= 0\n",
    "    for i in range(n-1, -1, -1):\n",
    "        for last in range(4):\n",
    "            maxi= -sys.maxsize\n",
    "            for task in range(3):\n",
    "                if task!=last:\n",
    "                    maxi= max(maxi, points[i][task] + dp[i+1][task])\n",
    "            dp[i][last]= maxi\n",
    "    return dp[0][3]\n",
    "\n",
    "# T.C = O(n * 3 * 3) = O(n)\n",
    "# S.C = O(n * 3) for dp"
   ]
  },
  {
   "cell_type": "code",
   "execution_count": null,
   "id": "03c82b38",
   "metadata": {},
   "outputs": [],
   "source": [
    "# 2. grid unique paths\n",
    "\n",
    "# recursion\n",
    " def solve(self, i, j, m, n):\n",
    "        if i>=m or j>=n:\n",
    "            return 0\n",
    "\n",
    "        if i==m-1 and j==n-1:\n",
    "            return 1\n",
    "\n",
    "        return self.solve(i+1, j, m, n) + self.solve(i, j+1, m, n)\n",
    "    \n",
    "def uniquePaths(self, m: int, n: int) -> int:\n",
    "    return self.solve(0, 0, m, n)"
   ]
  },
  {
   "cell_type": "code",
   "execution_count": null,
   "id": "08628e25",
   "metadata": {},
   "outputs": [],
   "source": [
    "# memoization\n",
    "\n",
    "def solve(self, i, j, m, n, dp):\n",
    "    if i>=m or j>=n:\n",
    "        return 0\n",
    "\n",
    "    if i==m-1 and j==n-1:\n",
    "        return 1\n",
    "\n",
    "    if dp[i][j]!=-1:\n",
    "        return dp[i][j]\n",
    "\n",
    "    dp[i][j]=  self.solve(i+1, j, m, n, dp) + self.solve(i, j+1, m, n, dp)\n",
    "    return dp[i][j]\n",
    "\n",
    "def uniquePaths(self, m: int, n: int) -> int:\n",
    "    dp= [[-1] * n for _ in range(m)]\n",
    "    return self.solve(0, 0, m, n, dp)"
   ]
  },
  {
   "cell_type": "code",
   "execution_count": null,
   "id": "a17ed992",
   "metadata": {},
   "outputs": [],
   "source": [
    "# tabulation\n",
    "\n",
    "def uniquePaths(self, m: int, n: int) -> int:\n",
    "    dp= [[-1] * (n+1) for _ in range(m+1)]\n",
    "    for i in range(m+1):\n",
    "        dp[i][n]= 0\n",
    "    for j in range(n+1):\n",
    "        dp[m][j]= 0\n",
    "    for i in range(m-1, -1, -1):\n",
    "        for j in range(n-1, -1, -1):\n",
    "            if i==m-1 and j==n-1:\n",
    "                dp[i][j]= 1\n",
    "            else:\n",
    "                dp[i][j]=  dp[i+1][j] + dp[i][j+1]\n",
    "    return dp[0][0]"
   ]
  }
 ],
 "metadata": {
  "kernelspec": {
   "display_name": "venv",
   "language": "python",
   "name": "python3"
  },
  "language_info": {
   "codemirror_mode": {
    "name": "ipython",
    "version": 3
   },
   "file_extension": ".py",
   "mimetype": "text/x-python",
   "name": "python",
   "nbconvert_exporter": "python",
   "pygments_lexer": "ipython3",
   "version": "3.12.3"
  }
 },
 "nbformat": 4,
 "nbformat_minor": 5
}
