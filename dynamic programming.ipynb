{
 "cells": [
  {
   "cell_type": "markdown",
   "id": "901b2de0",
   "metadata": {},
   "source": [
    "## Dynamic Programming\n",
    "\n",
    "```\n",
    "those who cannot remember the past are condemned to repeat it.\n",
    "```"
   ]
  },
  {
   "cell_type": "code",
   "execution_count": null,
   "id": "d0fe6ca4",
   "metadata": {},
   "outputs": [
    {
     "name": "stdout",
     "output_type": "stream",
     "text": [
      "5\n"
     ]
    }
   ],
   "source": [
    "# fibonacci series\n",
    "\n",
    "# naive recursive implementation\n",
    "def fibonacci(n):\n",
    "    if n <= 0:\n",
    "        return 0\n",
    "    elif n == 1:\n",
    "        return 1\n",
    "    else:\n",
    "        return fibonacci(n - 1) + fibonacci(n - 2)\n",
    "\n",
    "print(5)\n",
    "\n",
    "# Time complexity: O(2^n)\n",
    "# Space complexity: O(n) due to recursion stack"
   ]
  },
  {
   "cell_type": "markdown",
   "id": "1021bceb",
   "metadata": {},
   "source": [
    "problem with recursion is that it can be inefficient for problems with overlapping subproblems\n",
    "\n",
    "ex - \n",
    "```\n",
    "       fib(5)\n",
    "       /    \\\n",
    "    fib(4)   fib(3)\n",
    "    /    \\       / \\\n",
    "fib(3) fib(2) fib(2) fib(1)\n",
    "/     \\       /     \\\n",
    "fib(2) fib(1) fib(1) fib(0)\n",
    "```\n",
    "\n",
    "as we can see fib(2) and fib(1) are computed multiple times, we can store the results in map/table and use them when needed"
   ]
  },
  {
   "cell_type": "code",
   "execution_count": null,
   "id": "3e6bb655",
   "metadata": {},
   "outputs": [
    {
     "name": "stdout",
     "output_type": "stream",
     "text": [
      "5\n"
     ]
    }
   ],
   "source": [
    "# memoization implementation\n",
    "\n",
    "def fibonacci_memo(n, memo):\n",
    "    # check if the result is already computed\n",
    "    # and stored in the memo dictionary\n",
    "    if n in memo:\n",
    "        return memo[n]\n",
    "    if n <= 0:\n",
    "        return 0\n",
    "    elif n == 1:\n",
    "        return 1\n",
    "    else:\n",
    "        memo[n] = fibonacci_memo(n - 1, memo) + fibonacci_memo(n - 2, memo)\n",
    "        return memo[n]\n",
    "    \n",
    "memo= {}\n",
    "print(fibonacci_memo(5, memo))\n",
    "\n",
    "# Time complexity: O(n)\n",
    "# Space complexity: O(n) for memoization storage"
   ]
  },
  {
   "cell_type": "markdown",
   "id": "0f7b2d5a",
   "metadata": {},
   "source": [
    "if we travel in bottom-up manner, we can avoid recursion altogether, this is called tabulation, it can help us optimize space complexity by reducing the stack space used by recursion"
   ]
  },
  {
   "cell_type": "code",
   "execution_count": null,
   "id": "636d7a82",
   "metadata": {},
   "outputs": [],
   "source": [
    "# tabulation implementation\n",
    "\n",
    "def fibonacci_tab(n):\n",
    "    if n <= 0:\n",
    "        return 0\n",
    "    elif n == 1:\n",
    "        return 1\n",
    "    \n",
    "    fib = [0] * (n + 1)\n",
    "    fib[1] = 1\n",
    "    \n",
    "    for i in range(2, n + 1):\n",
    "        fib[i] = fib[i - 1] + fib[i - 2]\n",
    "    \n",
    "    return fib[n]\n",
    "\n",
    "print(fibonacci_tab(5))\n",
    "\n",
    "# Time complexity: O(n)\n",
    "# Space complexity: O(n) for the array"
   ]
  },
  {
   "cell_type": "code",
   "execution_count": 4,
   "id": "fca4ed77",
   "metadata": {},
   "outputs": [
    {
     "name": "stdout",
     "output_type": "stream",
     "text": [
      "5\n"
     ]
    }
   ],
   "source": [
    "# space optimized tabulation implementation\n",
    "\n",
    "def fibonacci_space_optimized(n):\n",
    "    if n <= 0:\n",
    "        return 0\n",
    "    elif n == 1:\n",
    "        return 1\n",
    "    \n",
    "    prev2 = 0\n",
    "    prev1 = 1\n",
    "    \n",
    "    for i in range(2, n + 1):\n",
    "        current = prev1 + prev2\n",
    "        prev2 = prev1\n",
    "        prev1 = current\n",
    "    \n",
    "    return prev1\n",
    "\n",
    "print(fibonacci_space_optimized(5))\n",
    "\n",
    "# Time complexity: O(n)\n",
    "# Space complexity: O(1) since we are using only a constant amount of space"
   ]
  },
  {
   "cell_type": "markdown",
   "id": "8c7192e8",
   "metadata": {},
   "source": [
    "so, recursion --> memoization --> tabulation --> space optimization"
   ]
  },
  {
   "cell_type": "code",
   "execution_count": null,
   "id": "530b063a",
   "metadata": {},
   "outputs": [],
   "source": []
  }
 ],
 "metadata": {
  "kernelspec": {
   "display_name": "venv",
   "language": "python",
   "name": "python3"
  },
  "language_info": {
   "codemirror_mode": {
    "name": "ipython",
    "version": 3
   },
   "file_extension": ".py",
   "mimetype": "text/x-python",
   "name": "python",
   "nbconvert_exporter": "python",
   "pygments_lexer": "ipython3",
   "version": "3.12.3"
  }
 },
 "nbformat": 4,
 "nbformat_minor": 5
}
