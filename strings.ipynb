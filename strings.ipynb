{
 "cells": [
  {
   "cell_type": "markdown",
   "id": "63dd8feb",
   "metadata": {},
   "source": [
    "## Strings"
   ]
  },
  {
   "cell_type": "code",
   "execution_count": 2,
   "id": "fb138359",
   "metadata": {},
   "outputs": [
    {
     "name": "stdout",
     "output_type": "stream",
     "text": [
      "0\n",
      "3\n"
     ]
    }
   ],
   "source": [
    "# s = \"1234567891011121314....\" find the nth digit\n",
    "\n",
    "def find_nth_digit(n):\n",
    "    if n < 10:\n",
    "        return n\n",
    "\n",
    "    digit_length = 1\n",
    "    count = 9\n",
    "    start = 1\n",
    "\n",
    "    while n > digit_length * count:\n",
    "        n -= digit_length * count\n",
    "        digit_length += 1\n",
    "        count *= 10\n",
    "        start *= 10\n",
    "\n",
    "    start += (n - 1) // digit_length\n",
    "    num_str = str(start)\n",
    "    return int(num_str[(n - 1) % digit_length])\n",
    "\n",
    "print(find_nth_digit(11))  # Example usage, should return 0\n",
    "print(find_nth_digit(501))  # Example usage, should return 1"
   ]
  },
  {
   "cell_type": "code",
   "execution_count": null,
   "id": "c4440bea",
   "metadata": {},
   "outputs": [],
   "source": []
  }
 ],
 "metadata": {
  "kernelspec": {
   "display_name": "venv",
   "language": "python",
   "name": "python3"
  },
  "language_info": {
   "codemirror_mode": {
    "name": "ipython",
    "version": 3
   },
   "file_extension": ".py",
   "mimetype": "text/x-python",
   "name": "python",
   "nbconvert_exporter": "python",
   "pygments_lexer": "ipython3",
   "version": "3.12.3"
  }
 },
 "nbformat": 4,
 "nbformat_minor": 5
}
