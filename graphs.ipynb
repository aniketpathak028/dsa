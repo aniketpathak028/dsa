{
 "cells": [
  {
   "cell_type": "markdown",
   "id": "ddcf692c",
   "metadata": {},
   "source": [
    "## Graphs"
   ]
  },
  {
   "cell_type": "markdown",
   "id": "87cadea3",
   "metadata": {},
   "source": [
    "Definition:\n",
    "\n",
    "- A graph is a collection of nodes (or vertices) and edges (connections between nodes).\n",
    "- Graphs can be directed (edges have a direction) or undirected (edges do not have a direction).\n",
    "- Graphs can be weighted (edges have weights) or unweighted (edges do not have weights).\n",
    "- Graphs can be cyclic (contain cycles) or acyclic (do not contain cycles).\n",
    "- Graphs can be connected (there is a path between every pair of nodes) or disconnected (some nodes are not reachable from others)."
   ]
  },
  {
   "cell_type": "markdown",
   "id": "b44ce23c",
   "metadata": {},
   "source": [
    "Degree of a Node:\n",
    "- The degree of a node is the number of edges connected to it.\n",
    "- In directed graphs, we distinguish between in-degree (number of incoming edges) and out-degree (number of outgoing edges).\n",
    "\n",
    "Degree of Graph: 2 * Number of Edges"
   ]
  },
  {
   "cell_type": "markdown",
   "id": "f4fb7be9",
   "metadata": {},
   "source": [
    "### Representation"
   ]
  },
  {
   "cell_type": "code",
   "execution_count": null,
   "id": "bce3c853",
   "metadata": {},
   "outputs": [],
   "source": [
    "# adjacency list\n",
    "\n",
    "from collections import defaultdict\n",
    "\n",
    "adj = defaultdict(list)\n",
    "\n",
    "def add_edge(u, v):\n",
    "    adj[u].append(v)\n",
    "    adj[v].append(u)  # for undirected graph, add both directions"
   ]
  },
  {
   "cell_type": "code",
   "execution_count": null,
   "id": "19ef405b",
   "metadata": {},
   "outputs": [],
   "source": [
    "# adjacency matrix\n",
    "\n",
    "mat = [[0] * 5 for _ in range(5)]\n",
    "def add_edge_matrix(u, v):\n",
    "    mat[u][v] = 1\n",
    "    mat[v][u] = 1  # for undirected graph, set both directions"
   ]
  },
  {
   "cell_type": "code",
   "execution_count": null,
   "id": "fe012b18",
   "metadata": {},
   "outputs": [],
   "source": [
    "# number of components\n",
    "from collections import defaultdict\n",
    "def getComponents(V, edges):\n",
    "    # create adj matrix\n",
    "    adj= defaultdict(list)\n",
    "    vis= [0] * V\n",
    "    for edge in edges:\n",
    "        adj[edge[0]].append(edge[1])\n",
    "        adj[edge[1]].append(edge[0])\n",
    "    # dfs on a connected component\n",
    "    def dfs(node, component):\n",
    "        if node==None or vis[node]==1:\n",
    "            return\n",
    "    \n",
    "        vis[node]= 1\n",
    "        component.append(node)\n",
    "        \n",
    "        for neighbour in adj[node]:\n",
    "            dfs(neighbour, component)\n",
    "    # count the number of components\n",
    "    ans= []\n",
    "    for node in range(V):\n",
    "        component= []\n",
    "        if vis[node]==0:\n",
    "            dfs(node, component)\n",
    "            ans.append(component)\n",
    "    return ans"
   ]
  }
 ],
 "metadata": {
  "kernelspec": {
   "display_name": "venv",
   "language": "python",
   "name": "python3"
  },
  "language_info": {
   "name": "python",
   "version": "3.12.3"
  }
 },
 "nbformat": 4,
 "nbformat_minor": 5
}
