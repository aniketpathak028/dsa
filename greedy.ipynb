{
 "cells": [
  {
   "cell_type": "markdown",
   "id": "1ad39dfd",
   "metadata": {},
   "source": [
    "## Greedy"
   ]
  },
  {
   "cell_type": "code",
   "execution_count": 3,
   "id": "94e093fc",
   "metadata": {},
   "outputs": [
    {
     "name": "stdout",
     "output_type": "stream",
     "text": [
      "2\n"
     ]
    }
   ],
   "source": [
    "# assign cookies\n",
    "\n",
    "def findContentChildren(g, s):\n",
    "    s.sort()\n",
    "    g.sort()\n",
    "    n, m= len(g),len(s)\n",
    "    l, r= 0,0\n",
    "    while l<n and r<m:\n",
    "        if s[r]>=g[l]:\n",
    "            r+= 1\n",
    "            l+= 1\n",
    "        else:\n",
    "            r+=1\n",
    "    return l\n",
    "\n",
    "g= [1, 2]\n",
    "s= [1, 2, 3]\n",
    "print(findContentChildren(g,s))"
   ]
  },
  {
   "cell_type": "code",
   "execution_count": null,
   "id": "3a0053b7",
   "metadata": {},
   "outputs": [],
   "source": [
    "# fractional knapsack\n",
    "\n",
    "def fractionalknapsack(val, wt, capacity):\n",
    "    ans= 0\n",
    "    cap= capacity\n",
    "    n= len(val)\n",
    "    tpl= []\n",
    "    for i in range(n):\n",
    "        tpl.append((val[i],wt[i]))\n",
    "    tpl.sort(key=lambda x: x[1]/x[0])\n",
    "    for i in range(len(tpl)):\n",
    "        value,weight= tpl[i][0], tpl[i][1]\n",
    "        if cap>=weight:\n",
    "            cap-= weight\n",
    "            ans+= value\n",
    "        else:\n",
    "            ans+= cap*(value/weight)\n",
    "            break\n",
    "    return ans"
   ]
  },
  {
   "cell_type": "code",
   "execution_count": null,
   "id": "8cc89f22",
   "metadata": {},
   "outputs": [],
   "source": [
    "# minimum number of coins needed\n",
    "\n",
    "def minPartition(N):\n",
    "    currency= [1, 2, 5, 10, 20, 50, 100, 200, 500, 2000]\n",
    "    ans= []\n",
    "    for i in range(len(currency)-1,-1,-1):\n",
    "        while N>0 and currency[i]<=N:\n",
    "            ans.append(currency[i])\n",
    "            N-=currency[i]\n",
    "    return ans"
   ]
  },
  {
   "cell_type": "code",
   "execution_count": null,
   "id": "cbff6074",
   "metadata": {},
   "outputs": [],
   "source": [
    "# valid paranthesis\n",
    "\n",
    "# approach-1: use recursion, for each * we can either treat it as ( or ) or empty, if at any point cnt==-1 return False \n",
    "# T.C O(3^n) S.C O(n)\n",
    "\n",
    "# approach-3: use min and max counters, for each ( we increase both min and max, for each ) we decrease both\n",
    "# for each * we decrease min by 1 and increase max by 1, if at any point max<0 return False, at the end check if min==0\n",
    "# T.C O(n) S.C O(1)\n",
    "def isValid(s):\n",
    "    min, max= 0, 0\n",
    "    for i in range(s):\n",
    "        if s[i]=='(':\n",
    "            min+= 1\n",
    "            max+= 1\n",
    "        elif s[i]==')':\n",
    "            min-= 1\n",
    "            max-= 1\n",
    "        else:\n",
    "            min-= 1\n",
    "            max+= 1\n",
    "        if max<0:\n",
    "            return False\n",
    "        min= max(0, min)\n",
    "    return min==0"
   ]
  },
  {
   "cell_type": "code",
   "execution_count": null,
   "id": "5bb6d417",
   "metadata": {},
   "outputs": [],
   "source": [
    "# n meetings in one room\n",
    "\n",
    "def maxMeetings(start, end):\n",
    "    n= len(start)\n",
    "    meetings= []\n",
    "    for i in range(n):\n",
    "        meetings.append((start[i], end[i]))\n",
    "    meetings.sort(key=lambda x: x[1])\n",
    "    ans= []\n",
    "    last_end= -1\n",
    "    for i in range(n):\n",
    "        if meetings[i][0]>last_end:\n",
    "            ans.append(i+1)\n",
    "            last_end= meetings[i][1]\n",
    "    return ans"
   ]
  },
  {
   "cell_type": "code",
   "execution_count": null,
   "id": "0b14ce35",
   "metadata": {},
   "outputs": [],
   "source": [
    "# jump game\n",
    "\n",
    "# approach-1: use recursion, for each index we can jump to any index from i+1 to i+nums[i], if we reach the end return True\n",
    "# T.C O(2^n) S.C O(n)\n",
    "\n",
    "# approach-2: use dp  T.C O(n^2) S.C O(n)\n",
    "\n",
    "# approach-3: use greedy, for each index we can jump to any index from i+1 to i+nums[i], if we reach the end return True\n",
    "# we can keep track of the farthest index we can reach, if at any point we reach an index that is greater than the farthest index we can reach, return False\n",
    "# T.C O(n) S.C O(1)\n",
    "def canJump(nums):\n",
    "    maxIndex= 0\n",
    "    for i in range(len(nums)):\n",
    "        if i>maxIndex:\n",
    "            return False\n",
    "        maxIndex= max(maxIndex, i+nums[i])\n",
    "    return True"
   ]
  },
  {
   "cell_type": "code",
   "execution_count": null,
   "id": "6a9c19e8",
   "metadata": {},
   "outputs": [],
   "source": [
    "# jump game II\n",
    "\n",
    "# dp approach\n",
    "# Time Complexity: O(n^2)\n",
    "# Space Complexity: O(n)\n",
    "\n",
    "def solve(i, nums, dp):\n",
    "    if i>=len(nums)-1:\n",
    "        return 0\n",
    "\n",
    "    if dp[i]!=-1:\n",
    "        return dp[i]\n",
    "\n",
    "    mini= sys.maxsize\n",
    "    for j in range(1, nums[i]+1):\n",
    "        mini= min(mini, 1+solve(i+j, nums, dp))\n",
    "    dp[i]= mini\n",
    "    return mini\n",
    "\n",
    "def jump(nums):\n",
    "    n= len(nums)\n",
    "    dp= [-1] * n\n",
    "    return solve(0, nums, dp)"
   ]
  },
  {
   "cell_type": "code",
   "execution_count": null,
   "id": "ea95722a",
   "metadata": {},
   "outputs": [],
   "source": [
    "# jump game II\n",
    "\n",
    "# Greedy approach\n",
    "# Time Complexity: O(n)\n",
    "# Space Complexity: O(1)\n",
    "\n",
    "def jump(nums):\n",
    "    n= len(nums)\n",
    "    l, r= 0,0\n",
    "    jumps= 0\n",
    "    while r<n-1:\n",
    "        farthest= -1\n",
    "        for i in range(l, r+1):\n",
    "            farthest= max(farthest, i+nums[i])\n",
    "        l= r+1\n",
    "        r= farthest\n",
    "        jumps+=1\n",
    "    return jumps"
   ]
  }
 ],
 "metadata": {
  "kernelspec": {
   "display_name": "venv",
   "language": "python",
   "name": "python3"
  },
  "language_info": {
   "codemirror_mode": {
    "name": "ipython",
    "version": 3
   },
   "file_extension": ".py",
   "mimetype": "text/x-python",
   "name": "python",
   "nbconvert_exporter": "python",
   "pygments_lexer": "ipython3",
   "version": "3.12.3"
  }
 },
 "nbformat": 4,
 "nbformat_minor": 5
}
