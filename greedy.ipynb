{
 "cells": [
  {
   "cell_type": "markdown",
   "id": "1ad39dfd",
   "metadata": {},
   "source": [
    "## Greedy"
   ]
  },
  {
   "cell_type": "code",
   "execution_count": null,
   "id": "94e093fc",
   "metadata": {},
   "outputs": [],
   "source": [
    "# Frog Jump II\n",
    "\n",
    "\n",
    "\n"
   ]
  }
 ],
 "metadata": {
  "kernelspec": {
   "display_name": "venv",
   "language": "python",
   "name": "python3"
  },
  "language_info": {
   "name": "python",
   "version": "3.12.3"
  }
 },
 "nbformat": 4,
 "nbformat_minor": 5
}
