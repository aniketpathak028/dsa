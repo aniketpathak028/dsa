{
 "cells": [
  {
   "cell_type": "markdown",
   "id": "cbe2fe7b",
   "metadata": {},
   "source": [
    "# Python Concepts"
   ]
  },
  {
   "cell_type": "markdown",
   "id": "51f700fe",
   "metadata": {},
   "source": [
    "### 1. Reference Behavior"
   ]
  },
  {
   "cell_type": "markdown",
   "id": "079e5886",
   "metadata": {},
   "source": [
    "In Python, variables are references to objects. When you append to lists, only references are stored:"
   ]
  },
  {
   "cell_type": "code",
   "execution_count": 6,
   "id": "28c3aae0",
   "metadata": {},
   "outputs": [
    {
     "name": "stdout",
     "output_type": "stream",
     "text": [
      "[[1, 2, 3, 4]]\n",
      "[1, 2, 3, 4]\n"
     ]
    }
   ],
   "source": [
    "v1 = [1, 2, 3]\n",
    "result = []\n",
    "result.append(v1)  # Adds a REFERENCE to v1\n",
    "v1.append(4)       # Changes both v1 AND the list in result!\n",
    "print(result)\n",
    "print(v1)"
   ]
  },
  {
   "cell_type": "markdown",
   "id": "8ca971e7",
   "metadata": {},
   "source": [
    "Create explicit copies when needed:"
   ]
  },
  {
   "cell_type": "code",
   "execution_count": null,
   "id": "11e728e5",
   "metadata": {},
   "outputs": [
    {
     "name": "stdout",
     "output_type": "stream",
     "text": [
      "[[1, 2, 3]]\n"
     ]
    }
   ],
   "source": [
    "v1 = [1, 2, 3]\n",
    "result = []\n",
    "result.append(v1.copy())  # or result.append(v1[:])\n",
    "v1.append(10)\n",
    "print(result) # result didn't get changed"
   ]
  },
  {
   "cell_type": "markdown",
   "id": "b2429ec4",
   "metadata": {},
   "source": [
    "2D Matrix"
   ]
  },
  {
   "cell_type": "code",
   "execution_count": 9,
   "id": "9d879777",
   "metadata": {},
   "outputs": [
    {
     "name": "stdout",
     "output_type": "stream",
     "text": [
      "[[1, 2, 0], [0, 0, 0], [0, 0, 0]]\n",
      "[[1, 2, 0], [0, 0, 0], [0, 0, 0]]\n"
     ]
    }
   ],
   "source": [
    "matrix = [[0, 0, 0], [0, 0, 0], [0, 0, 0]]\n",
    "copy = matrix.copy()  # Only copies outer list - inner lists are shared!\n",
    "copy[0][0] = 1        # Only changes copy's first row reference\n",
    "copy[0][1] = 2        # Changes affect BOTH matrices!\n",
    "print(matrix)\n",
    "print(copy)"
   ]
  },
  {
   "cell_type": "markdown",
   "id": "dfc3807b",
   "metadata": {},
   "source": [
    "Create explicit copies"
   ]
  },
  {
   "cell_type": "code",
   "execution_count": null,
   "id": "99216cce",
   "metadata": {},
   "outputs": [
    {
     "name": "stdout",
     "output_type": "stream",
     "text": [
      "[[0, 0, 0], [0, 0, 0], [0, 0, 0]]\n",
      "[[1, 0, 0], [0, 0, 0], [0, 0, 0]]\n"
     ]
    }
   ],
   "source": [
    "matrix = [[0, 0, 0], [0, 0, 0], [0, 0, 0]]\n",
    "deep_copy = [row[:] for row in matrix]\n",
    "deep_copy[0][0] = 1\n",
    "print(matrix)           # matrix didn't change\n",
    "print(deep_copy)        # only the deep copy changed"
   ]
  },
  {
   "cell_type": "markdown",
   "id": "c6d281bd",
   "metadata": {},
   "source": [
    "Creating 2D Arrays"
   ]
  },
  {
   "cell_type": "markdown",
   "id": "0038ef13",
   "metadata": {},
   "source": [
    "Wrong Way (creates reference issue)"
   ]
  },
  {
   "cell_type": "code",
   "execution_count": 13,
   "id": "e10c513e",
   "metadata": {},
   "outputs": [
    {
     "name": "stdout",
     "output_type": "stream",
     "text": [
      "[[1, 0, 0], [1, 0, 0], [1, 0, 0]]\n"
     ]
    }
   ],
   "source": [
    "matrix = [[0] * 3] * 3  # All rows reference THE SAME LIST!\n",
    "matrix[0][0] = 1        # Changes first element in ALL rows!\n",
    "print(matrix)"
   ]
  },
  {
   "cell_type": "markdown",
   "id": "d2e035a6",
   "metadata": {},
   "source": [
    "Right Way"
   ]
  },
  {
   "cell_type": "code",
   "execution_count": 15,
   "id": "4fb395e8",
   "metadata": {},
   "outputs": [
    {
     "name": "stdout",
     "output_type": "stream",
     "text": [
      "[[1, 0, 0], [0, 0, 0], [0, 0, 0]]\n"
     ]
    }
   ],
   "source": [
    "# Each creates independent rows\n",
    "matrix = [[0 for _ in range(3)] for _ in range(3)]\n",
    "# or\n",
    "matrix = [[0] * 3 for _ in range(3)]\n",
    "\n",
    "matrix[0][0]= 1\n",
    "print(matrix)"
   ]
  },
  {
   "cell_type": "markdown",
   "id": "712a2e9e",
   "metadata": {},
   "source": [
    "String immutability\n",
    "\n",
    "- strings are immutable in python, so once generated they cannot be modified"
   ]
  },
  {
   "cell_type": "code",
   "execution_count": 18,
   "id": "056187ae",
   "metadata": {},
   "outputs": [
    {
     "name": "stdout",
     "output_type": "stream",
     "text": [
      "*\n",
      "['*', '*', '*', '*', '*']\n",
      "['#', '*', '*', '*', '*']\n",
      "#****\n",
      "[['.', '.', '.', '.', '.', '.', '.', '.'], ['.', '.', '.', '.', '.', '.', '.', '.'], ['.', '.', '.', '.', '.', '.', '.', '.'], ['.', '.', '.', '.', '.', '.', '.', '.'], ['.', '.', '.', '.', '.', '.', '.', '.'], ['.', '.', '.', '.', '.', '.', '.', '.'], ['.', '.', '.', '.', '.', '.', '.', '.'], ['.', '.', '.', '.', '.', '.', '.', '.']]\n",
      "['........', '........', '........', '........', '........', '........', '........', '........']\n"
     ]
    }
   ],
   "source": [
    "str = \"*\" * 5\n",
    "print(str[0])\n",
    "# str[0]= \"67\" (x) cannot modify\n",
    "\n",
    "# list of strings\n",
    "l= [\"*\"] * 5\n",
    "print(l)\n",
    "l[0]= \"#\"\n",
    "print(l)\n",
    "\n",
    "# join all elements to form a single string\n",
    "print(\"\".join(l))\n",
    "\n",
    "# list of list of strings (ex- a chess board with only queens)\n",
    "board= [[\".\"] * 8 for _ in range(8)]\n",
    "print(board)\n",
    "print([\"\".join(row) for row in board])"
   ]
  },
  {
   "cell_type": "markdown",
   "id": "dbbf3fa2",
   "metadata": {},
   "source": [
    "Key Python Concepts to Remember\n",
    "\n",
    "- Variables are references to objects, not containers for values\n",
    "- Assignment (=) never copies data, it creates a new reference\n",
    "- Mutable objects (lists, dicts, etc.) can be modified through any reference\n",
    "- .copy() creates shallow copies (one level deep)\n",
    "- For nested structures, use copy.deepcopy() or manual copying"
   ]
  },
  {
   "cell_type": "markdown",
   "id": "b110a1e6",
   "metadata": {},
   "source": [
    "### 2. Data Structures"
   ]
  },
  {
   "cell_type": "markdown",
   "id": "d9bfa17f",
   "metadata": {},
   "source": [
    "- Heap\n",
    "\n",
    "Python has min-heap via heapq module, not max-heap. For max-heap, negate values or use custom objects"
   ]
  },
  {
   "cell_type": "code",
   "execution_count": 6,
   "id": "79d323e2",
   "metadata": {},
   "outputs": [
    {
     "name": "stdout",
     "output_type": "stream",
     "text": [
      "[5, 10]\n",
      "[10]\n",
      "[10, 20, 15, 30, 40]\n",
      "5\n"
     ]
    }
   ],
   "source": [
    "import heapq\n",
    "heap = []\n",
    "\n",
    "# push\n",
    "heapq.heappush(heap, 5)  \n",
    "heapq.heappush(heap, 10)\n",
    "print(heap)\n",
    "\n",
    " # pop\n",
    "item = heapq.heappop(heap)\n",
    "print(heap)\n",
    "\n",
    "# create a heap from a list\n",
    "h = [10, 20, 15, 30, 40]\n",
    "heapq.heapify(h)\n",
    "\n",
    "# append an element to the heap\n",
    "heapq.heappush(h, 5)\n",
    "\n",
    "# pop the smallest element from the heap\n",
    "min = heapq.heappop(h)\n",
    "\n",
    "print(h)\n",
    "\n",
    "# print the length of the heap\n",
    "print(len(h))"
   ]
  },
  {
   "cell_type": "markdown",
   "id": "0ef3095f",
   "metadata": {},
   "source": [
    "- Stack\n",
    "\n",
    "There is no inbuilt stack data structure use a list using append and pop to mimic push and pop operations"
   ]
  },
  {
   "cell_type": "code",
   "execution_count": null,
   "id": "942d2bd5",
   "metadata": {},
   "outputs": [
    {
     "name": "stdout",
     "output_type": "stream",
     "text": [
      "[5]\n"
     ]
    }
   ],
   "source": [
    "stack= []\n",
    "stack.append(5) # push\n",
    "stack.append(10) # pop\n",
    "stack.pop()\n",
    "print(stack)"
   ]
  },
  {
   "cell_type": "markdown",
   "id": "97b7a645",
   "metadata": {},
   "source": [
    "- Set\n",
    "\n",
    "1. for storing and searching unique elements in O(1)\n",
    "2. elements in set are immutable, however a set itself it mutable"
   ]
  },
  {
   "cell_type": "code",
   "execution_count": 22,
   "id": "68eefbad",
   "metadata": {},
   "outputs": [
    {
     "name": "stdout",
     "output_type": "stream",
     "text": [
      "{10, 1, 2, 3}\n",
      "True\n",
      "{1, 2, 3}\n"
     ]
    }
   ],
   "source": [
    "set= {1, 2, 3}\n",
    "\n",
    "set.add(10)\n",
    "print(set)\n",
    "print(10 in set)\n",
    "set.remove(10)\n",
    "print(set)"
   ]
  },
  {
   "cell_type": "markdown",
   "id": "a3c3a9ad",
   "metadata": {},
   "source": [
    "- Queue (LIFO)\n",
    "\n",
    "use deque"
   ]
  },
  {
   "cell_type": "code",
   "execution_count": 3,
   "id": "35a0dd4e",
   "metadata": {},
   "outputs": [
    {
     "name": "stdout",
     "output_type": "stream",
     "text": [
      "deque([5, 10])\n",
      "deque([10])\n"
     ]
    }
   ],
   "source": [
    "from collections import deque\n",
    "\n",
    "q = deque()\n",
    "\n",
    "q.append(5)\n",
    "q.append(10)\n",
    "print(q)\n",
    "q.popleft()\n",
    "print(q)"
   ]
  },
  {
   "cell_type": "markdown",
   "id": "758c4de0",
   "metadata": {},
   "source": [
    "- DefaultDict\n",
    "\n",
    "defaultdict is a subclass of the built-in dict class from the collections module. It is used to provide a default value for a nonexistent key in the dictionary, eliminating the need for checking if the key exists before using it.\n",
    "\n",
    "Key Features of defaultdict:\n",
    "- When we access a key that doesn’t exist in the dictionary, defaultdict automatically creates it and assigns it a default value based on a function we provide.\n",
    "- We need to specify the default value type by passing a function (like int, list or set) when initializing the defaultdict."
   ]
  },
  {
   "cell_type": "code",
   "execution_count": 1,
   "id": "47b9239c",
   "metadata": {},
   "outputs": [
    {
     "name": "stdout",
     "output_type": "stream",
     "text": [
      "defaultdict(<class 'list'>, {'fruits': ['apple'], 'vegetables': ['carrot']})\n",
      "[]\n"
     ]
    }
   ],
   "source": [
    "from collections import defaultdict\n",
    "\n",
    "d = defaultdict(list)\n",
    "\n",
    "d['fruits'].append('apple')\n",
    "d['vegetables'].append('carrot')\n",
    "print(d)\n",
    "\n",
    "print(d['juices'])"
   ]
  },
  {
   "cell_type": "code",
   "execution_count": null,
   "id": "a22799c4",
   "metadata": {},
   "outputs": [],
   "source": [
    "# defaultfactory - It is a function returning the default value for the dictionary defined. If this argument is absent then the dictionary raises a KeyError.\n",
    "\n",
    "d = defaultdict(lambda: \"default value\")\n",
    "print(d['missing_key'])  # Will print \"default value\" instead of raising KeyError\n",
    "\n",
    "# defaultdict with int as default factory\n",
    "d = defaultdict(int)\n",
    "d['count'] += 1  # Automatically initializes 'count' to 0 and then increments it\n",
    "print(d['count'])  # Will print 1\n",
    "\n",
    "# defaultdict with a list as default factory\n",
    "d = defaultdict(list)\n",
    "d['key'].append('value')  # Automatically initializes 'key' to an empty list and appends 'value'\n",
    "print(d['key'])  # Will print ['value']\n",
    "\n",
    "# defaultdict with a set as default factory\n",
    "d = defaultdict(set)\n",
    "d['key'].add('value')  # Automatically initializes 'key' to an empty set and adds 'value'\n",
    "print(d['key'])  # Will print {'value'}\n",
    "\n",
    "# defaultdict with string as default factory\n",
    "d = defaultdict(str)\n",
    "d['key'] += 'value'  # Automatically initializes 'key' to an empty string and concatenates 'value'\n",
    "print(d['key'])  # Will print 'value'"
   ]
  },
  {
   "cell_type": "markdown",
   "id": "f5da7f66",
   "metadata": {},
   "source": [
    "### Miscellaneous concepts"
   ]
  },
  {
   "cell_type": "markdown",
   "id": "540b06cb",
   "metadata": {},
   "source": [
    "- to get the min and max value use \"sys.maxsize\" and \"-sys.maxsize-1\""
   ]
  },
  {
   "cell_type": "code",
   "execution_count": 1,
   "id": "0d5aa9c5",
   "metadata": {},
   "outputs": [
    {
     "name": "stdout",
     "output_type": "stream",
     "text": [
      "9223372036854775807\n",
      "-9223372036854775808\n"
     ]
    }
   ],
   "source": [
    "import sys\n",
    "print(sys.maxsize)\n",
    "print(-sys.maxsize-1)"
   ]
  },
  {
   "cell_type": "markdown",
   "id": "a22c7212",
   "metadata": {},
   "source": [
    "- Slicing in lists and strings\n",
    "\n",
    "    ```[start:end:step]```\n",
    "    - start: Index where the slice begins (inclusive). Defaults to 0 if omitted.\n",
    "    - stop: Index where the slice ends (exclusive). Defaults to the sequence's length if omitted.\n",
    "    - step: Determines the interval between elements. Defaults to 1 if omitted.\n",
    "\n",
    "Note: in real word scenario for example if you want to fetch the last 1000 logs of a large dataset\n",
    "\n",
    "```\n",
    "logs = load_large_dataset()  \n",
    "recent_logs = logs[-1000:]\n",
    "```"
   ]
  },
  {
   "cell_type": "code",
   "execution_count": null,
   "id": "25e347b9",
   "metadata": {},
   "outputs": [
    {
     "name": "stdout",
     "output_type": "stream",
     "text": [
      "Hello\n",
      "llo, World!\n",
      "orl\n"
     ]
    }
   ],
   "source": [
    "b = \"Hello, World!\"\n",
    "\n",
    "# slice from start\n",
    "print(b[:5])\n",
    "\n",
    "# slice to end\n",
    "print(b[2:])\n",
    "\n",
    "# -ve slicing\n",
    "print(b[-5:-2]) "
   ]
  },
  {
   "cell_type": "code",
   "execution_count": 12,
   "id": "854919ec",
   "metadata": {},
   "outputs": [
    {
     "name": "stdout",
     "output_type": "stream",
     "text": [
      "[20, 30, 40]\n",
      "[10, 20, 30]\n",
      "[10, 30, 50]\n",
      "[60, 50, 40, 30]\n",
      "[60, 50, 40, 30, 20, 10]\n"
     ]
    }
   ],
   "source": [
    "numbers = [10, 20, 30, 40, 50, 60]  \n",
    "\n",
    "print(numbers[1:4])   \n",
    "\n",
    "print(numbers[:3])\n",
    "\n",
    "print(numbers[::2]) \n",
    "\n",
    "print(numbers[-1:-5:-1])\n",
    "\n",
    "print(numbers[::-1])"
   ]
  },
  {
   "cell_type": "markdown",
   "id": "f56711ef",
   "metadata": {},
   "source": [
    "### List Comprehensions"
   ]
  },
  {
   "cell_type": "markdown",
   "id": "8f29a043",
   "metadata": {},
   "source": [
    "concise way to build a new list from an existing list (or any \"iterable\" like a range of numbers) in a single line\n",
    "\n",
    "```python\n",
    "[expression for item in iterable if condition]\n",
    "```"
   ]
  },
  {
   "cell_type": "code",
   "execution_count": null,
   "id": "8639f708",
   "metadata": {},
   "outputs": [],
   "source": [
    "# generate a list of numbers from 0 to 9\n",
    "\n",
    "numbers = [i for i in range(10)]"
   ]
  },
  {
   "cell_type": "code",
   "execution_count": null,
   "id": "f1135765",
   "metadata": {},
   "outputs": [],
   "source": [
    "# generate a list of squares of numbers from 0 to 9\n",
    "\n",
    "squares = [i**2 for i in range(10)]"
   ]
  },
  {
   "cell_type": "code",
   "execution_count": 1,
   "id": "cd2454b9",
   "metadata": {},
   "outputs": [
    {
     "name": "stdout",
     "output_type": "stream",
     "text": [
      "[[0, 0, 0, 0, 0, 0, 0, 0, 0, 0], [0, 0, 0, 0, 0, 0, 0, 0, 0, 0], [0, 0, 0, 0, 0, 0, 0, 0, 0, 0], [0, 0, 0, 0, 0, 0, 0, 0, 0, 0], [0, 0, 0, 0, 0, 0, 0, 0, 0, 0], [0, 0, 0, 0, 0, 0, 0, 0, 0, 0], [0, 0, 0, 0, 0, 0, 0, 0, 0, 0], [0, 0, 0, 0, 0, 0, 0, 0, 0, 0], [0, 0, 0, 0, 0, 0, 0, 0, 0, 0], [0, 0, 0, 0, 0, 0, 0, 0, 0, 0]]\n"
     ]
    }
   ],
   "source": [
    "# 2d list\n",
    "\n",
    "matrix= [[0 for _ in range(10)] for _ in range(10)]\n",
    "print(matrix)"
   ]
  },
  {
   "cell_type": "code",
   "execution_count": 5,
   "id": "0b3be9e7",
   "metadata": {},
   "outputs": [
    {
     "name": "stdout",
     "output_type": "stream",
     "text": [
      "[[0, 0, 0, 0, 0, 0, 0, 0, 0, 0], [0, 0, 0, 0, 0, 0, 0, 0, 0, 0], [0, 0, 0, 0, 0, 0, 0, 0, 0, 0], [0, 0, 0, 0, 0, 0, 0, 0, 0, 0], [0, 0, 0, 0, 0, 0, 0, 0, 0, 0], [0, 0, 0, 0, 0, 0, 0, 0, 0, 0], [0, 0, 0, 0, 0, 0, 0, 0, 0, 0], [0, 0, 0, 0, 0, 0, 0, 0, 0, 0], [0, 0, 0, 0, 0, 0, 0, 0, 0, 0], [0, 0, 0, 0, 0, 0, 0, 0, 0, 0]]\n"
     ]
    }
   ],
   "source": [
    "# why not this?\n",
    "\n",
    "bad_matrix= [[0]*10]*10\n",
    "print(bad_matrix)"
   ]
  },
  {
   "cell_type": "markdown",
   "id": "19609a80",
   "metadata": {},
   "source": [
    "#### why [[0] * m] * n is problematic?\n",
    "[0] * m: This creates one single list [0, 0, ..., 0] of length m.\n",
    "[...] * n: This creates a list containing n references to that exact same single list."
   ]
  },
  {
   "cell_type": "code",
   "execution_count": null,
   "id": "1fb5b373",
   "metadata": {},
   "outputs": [
    {
     "name": "stdout",
     "output_type": "stream",
     "text": [
      "[[10, 0, 0, 0, 0, 0, 0, 0, 0, 0], [10, 0, 0, 0, 0, 0, 0, 0, 0, 0], [10, 0, 0, 0, 0, 0, 0, 0, 0, 0], [10, 0, 0, 0, 0, 0, 0, 0, 0, 0], [10, 0, 0, 0, 0, 0, 0, 0, 0, 0], [10, 0, 0, 0, 0, 0, 0, 0, 0, 0], [10, 0, 0, 0, 0, 0, 0, 0, 0, 0], [10, 0, 0, 0, 0, 0, 0, 0, 0, 0], [10, 0, 0, 0, 0, 0, 0, 0, 0, 0], [10, 0, 0, 0, 0, 0, 0, 0, 0, 0]]\n"
     ]
    }
   ],
   "source": [
    "# so if you change any cell in a row, it will affect other rows as well\n",
    "\n",
    "bad_matrix[0][0]= 10\n",
    "print(bad_matrix)\n",
    "\n",
    "# note how all the 0th index of each row turned into 10"
   ]
  },
  {
   "cell_type": "code",
   "execution_count": 3,
   "id": "92596cd7",
   "metadata": {},
   "outputs": [
    {
     "name": "stdout",
     "output_type": "stream",
     "text": [
      "[1, 1, 2, 3, 4]\n",
      "[4, 3, 2, 1, 1]\n",
      "['VW', 'BMW', 'Ford', 'Mitsubishi']\n"
     ]
    }
   ],
   "source": [
    "# common functions\n",
    "\n",
    "# sort\n",
    "arr= [1, 3, 2, 4, 1]\n",
    "arr.sort()\n",
    "print(arr)\n",
    "\n",
    "# reverse sort\n",
    "arr.sort(reverse=True)\n",
    "print(arr)\n",
    "\n",
    "# a function that returns the length of the value:\n",
    "def myFunc(e):\n",
    "  return len(e)\n",
    "\n",
    "cars = ['Ford', 'Mitsubishi', 'BMW', 'VW']\n",
    "cars.sort(key=myFunc)\n",
    "print(cars)"
   ]
  },
  {
   "cell_type": "markdown",
   "id": "a3d8dab7",
   "metadata": {},
   "source": [
    "### lambda functions\n",
    "\n",
    "A lambda function is a small anonymous function.\n",
    "\n",
    "A lambda function can take any number of arguments, but can only have one expression.\n",
    "\n",
    "```\n",
    "lambda arguments : expression\n",
    "```"
   ]
  },
  {
   "cell_type": "code",
   "execution_count": 1,
   "id": "1bde36f8",
   "metadata": {},
   "outputs": [
    {
     "name": "stdout",
     "output_type": "stream",
     "text": [
      "15\n"
     ]
    }
   ],
   "source": [
    "x = lambda a : a + 10\n",
    "print(x(5)) "
   ]
  },
  {
   "cell_type": "markdown",
   "id": "a1af25ac",
   "metadata": {},
   "source": [
    "### Collection Utilities"
   ]
  },
  {
   "cell_type": "code",
   "execution_count": 1,
   "id": "536fec26",
   "metadata": {},
   "outputs": [
    {
     "name": "stdout",
     "output_type": "stream",
     "text": [
      "Counter from list: Counter({4: 4, 3: 3, 2: 2, 1: 1})\n",
      "Counter from string: Counter({'a': 5, 'b': 2, 'r': 2, 'c': 1, 'd': 1})\n",
      "Counter from keyword arguments: Counter({'a': 4, 'b': 2, 'd': 2, 'c': 0})\n"
     ]
    }
   ],
   "source": [
    "# counter\n",
    "\n",
    "from collections import Counter\n",
    "\n",
    "# 1. Counting elements in a list\n",
    "my_list = [1, 2, 2, 3, 3, 3, 4, 4, 4, 4]\n",
    "list_counter = Counter(my_list)\n",
    "print(f\"Counter from list: {list_counter}\")\n",
    "\n",
    "# 2. Counting characters in a string\n",
    "my_string = \"abracadabra\"\n",
    "string_counter = Counter(my_string)\n",
    "print(f\"Counter from string: {string_counter}\")\n",
    "\n",
    "# 3. Counting elements from a dictionary (keyword arguments)\n",
    "word_counts = Counter(a=4, b=2, c=0, d=2)\n",
    "print(f\"Counter from keyword arguments: {word_counts}\")"
   ]
  }
 ],
 "metadata": {
  "kernelspec": {
   "display_name": "venv",
   "language": "python",
   "name": "python3"
  },
  "language_info": {
   "codemirror_mode": {
    "name": "ipython",
    "version": 3
   },
   "file_extension": ".py",
   "mimetype": "text/x-python",
   "name": "python",
   "nbconvert_exporter": "python",
   "pygments_lexer": "ipython3",
   "version": "3.9.6"
  }
 },
 "nbformat": 4,
 "nbformat_minor": 5
}
