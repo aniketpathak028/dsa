{
 "cells": [
  {
   "cell_type": "markdown",
   "id": "cbe2fe7b",
   "metadata": {},
   "source": [
    "# Python Concepts"
   ]
  },
  {
   "cell_type": "markdown",
   "id": "51f700fe",
   "metadata": {},
   "source": [
    "### 1. Reference Behavior"
   ]
  },
  {
   "cell_type": "markdown",
   "id": "079e5886",
   "metadata": {},
   "source": [
    "In Python, variables are references to objects. When you append to lists, only references are stored:"
   ]
  },
  {
   "cell_type": "code",
   "execution_count": 6,
   "id": "28c3aae0",
   "metadata": {},
   "outputs": [
    {
     "name": "stdout",
     "output_type": "stream",
     "text": [
      "[[1, 2, 3, 4]]\n",
      "[1, 2, 3, 4]\n"
     ]
    }
   ],
   "source": [
    "v1 = [1, 2, 3]\n",
    "result = []\n",
    "result.append(v1)  # Adds a REFERENCE to v1\n",
    "v1.append(4)       # Changes both v1 AND the list in result!\n",
    "print(result)\n",
    "print(v1)"
   ]
  },
  {
   "cell_type": "markdown",
   "id": "8ca971e7",
   "metadata": {},
   "source": [
    "Create explicit copies when needed:"
   ]
  },
  {
   "cell_type": "code",
   "execution_count": null,
   "id": "11e728e5",
   "metadata": {},
   "outputs": [
    {
     "name": "stdout",
     "output_type": "stream",
     "text": [
      "[[1, 2, 3]]\n"
     ]
    }
   ],
   "source": [
    "v1 = [1, 2, 3]\n",
    "result = []\n",
    "result.append(v1.copy())  # or result.append(v1[:])\n",
    "v1.append(10)\n",
    "print(result) # result didn't get changed"
   ]
  },
  {
   "cell_type": "markdown",
   "id": "b2429ec4",
   "metadata": {},
   "source": [
    "2D Matrix"
   ]
  },
  {
   "cell_type": "code",
   "execution_count": 9,
   "id": "9d879777",
   "metadata": {},
   "outputs": [
    {
     "name": "stdout",
     "output_type": "stream",
     "text": [
      "[[1, 2, 0], [0, 0, 0], [0, 0, 0]]\n",
      "[[1, 2, 0], [0, 0, 0], [0, 0, 0]]\n"
     ]
    }
   ],
   "source": [
    "matrix = [[0, 0, 0], [0, 0, 0], [0, 0, 0]]\n",
    "copy = matrix.copy()  # Only copies outer list - inner lists are shared!\n",
    "copy[0][0] = 1        # Only changes copy's first row reference\n",
    "copy[0][1] = 2        # Changes affect BOTH matrices!\n",
    "print(matrix)\n",
    "print(copy)"
   ]
  },
  {
   "cell_type": "markdown",
   "id": "dfc3807b",
   "metadata": {},
   "source": [
    "Create explicit copies"
   ]
  },
  {
   "cell_type": "code",
   "execution_count": null,
   "id": "99216cce",
   "metadata": {},
   "outputs": [
    {
     "name": "stdout",
     "output_type": "stream",
     "text": [
      "[[0, 0, 0], [0, 0, 0], [0, 0, 0]]\n",
      "[[1, 0, 0], [0, 0, 0], [0, 0, 0]]\n"
     ]
    }
   ],
   "source": [
    "matrix = [[0, 0, 0], [0, 0, 0], [0, 0, 0]]\n",
    "deep_copy = [row[:] for row in matrix]\n",
    "deep_copy[0][0] = 1\n",
    "print(matrix)           # matrix didn't change\n",
    "print(deep_copy)        # only the deep copy changed"
   ]
  },
  {
   "cell_type": "markdown",
   "id": "c6d281bd",
   "metadata": {},
   "source": [
    "Creating 2D Arrays"
   ]
  },
  {
   "cell_type": "markdown",
   "id": "0038ef13",
   "metadata": {},
   "source": [
    "Wrong Way (creates reference issue)"
   ]
  },
  {
   "cell_type": "code",
   "execution_count": 13,
   "id": "e10c513e",
   "metadata": {},
   "outputs": [
    {
     "name": "stdout",
     "output_type": "stream",
     "text": [
      "[[1, 0, 0], [1, 0, 0], [1, 0, 0]]\n"
     ]
    }
   ],
   "source": [
    "matrix = [[0] * 3] * 3  # All rows reference THE SAME LIST!\n",
    "matrix[0][0] = 1        # Changes first element in ALL rows!\n",
    "print(matrix)"
   ]
  },
  {
   "cell_type": "markdown",
   "id": "d2e035a6",
   "metadata": {},
   "source": [
    "Right Way"
   ]
  },
  {
   "cell_type": "code",
   "execution_count": 15,
   "id": "4fb395e8",
   "metadata": {},
   "outputs": [
    {
     "name": "stdout",
     "output_type": "stream",
     "text": [
      "[[1, 0, 0], [0, 0, 0], [0, 0, 0]]\n"
     ]
    }
   ],
   "source": [
    "# Each creates independent rows\n",
    "matrix = [[0 for _ in range(3)] for _ in range(3)]\n",
    "# or\n",
    "matrix = [[0] * 3 for _ in range(3)]\n",
    "\n",
    "matrix[0][0]= 1\n",
    "print(matrix)"
   ]
  },
  {
   "cell_type": "markdown",
   "id": "712a2e9e",
   "metadata": {},
   "source": [
    "String immutability\n",
    "\n",
    "- strings are immutable in python, so once generated they cannot be modified"
   ]
  },
  {
   "cell_type": "code",
   "execution_count": 18,
   "id": "056187ae",
   "metadata": {},
   "outputs": [
    {
     "name": "stdout",
     "output_type": "stream",
     "text": [
      "*\n",
      "['*', '*', '*', '*', '*']\n",
      "['#', '*', '*', '*', '*']\n",
      "#****\n",
      "[['.', '.', '.', '.', '.', '.', '.', '.'], ['.', '.', '.', '.', '.', '.', '.', '.'], ['.', '.', '.', '.', '.', '.', '.', '.'], ['.', '.', '.', '.', '.', '.', '.', '.'], ['.', '.', '.', '.', '.', '.', '.', '.'], ['.', '.', '.', '.', '.', '.', '.', '.'], ['.', '.', '.', '.', '.', '.', '.', '.'], ['.', '.', '.', '.', '.', '.', '.', '.']]\n",
      "['........', '........', '........', '........', '........', '........', '........', '........']\n"
     ]
    }
   ],
   "source": [
    "str = \"*\" * 5\n",
    "print(str[0])\n",
    "# str[0]= \"67\" (x) cannot modify\n",
    "\n",
    "# list of strings\n",
    "l= [\"*\"] * 5\n",
    "print(l)\n",
    "l[0]= \"#\"\n",
    "print(l)\n",
    "\n",
    "# join all elements to form a single string\n",
    "print(\"\".join(l))\n",
    "\n",
    "# list of list of strings (ex- a chess board with only queens)\n",
    "board= [[\".\"] * 8 for _ in range(8)]\n",
    "print(board)\n",
    "print([\"\".join(row) for row in board])"
   ]
  },
  {
   "cell_type": "markdown",
   "id": "dbbf3fa2",
   "metadata": {},
   "source": [
    "Key Python Concepts to Remember\n",
    "\n",
    "- Variables are references to objects, not containers for values\n",
    "- Assignment (=) never copies data, it creates a new reference\n",
    "- Mutable objects (lists, dicts, etc.) can be modified through any reference\n",
    "- .copy() creates shallow copies (one level deep)\n",
    "- For nested structures, use copy.deepcopy() or manual copying"
   ]
  },
  {
   "cell_type": "markdown",
   "id": "b110a1e6",
   "metadata": {},
   "source": [
    "### 2. Data Structures"
   ]
  },
  {
   "cell_type": "markdown",
   "id": "d9bfa17f",
   "metadata": {},
   "source": [
    "- Heap\n",
    "\n",
    "Python has min-heap via heapq module, not max-heap. For max-heap, negate values or use custom objects"
   ]
  },
  {
   "cell_type": "code",
   "execution_count": 16,
   "id": "79d323e2",
   "metadata": {},
   "outputs": [
    {
     "name": "stdout",
     "output_type": "stream",
     "text": [
      "[5, 10]\n"
     ]
    }
   ],
   "source": [
    "import heapq\n",
    "heap = []\n",
    "heapq.heappush(heap, 5)  # Push\n",
    "heapq.heappush(heap, 10)\n",
    "print(heap)\n",
    "item = heapq.heappop(heap)  # Pop smallest"
   ]
  },
  {
   "cell_type": "markdown",
   "id": "0ef3095f",
   "metadata": {},
   "source": [
    "- Stack\n",
    "\n",
    "There is no inbuilt stack data structure use a list using append and pop to mimic push and pop operations"
   ]
  },
  {
   "cell_type": "code",
   "execution_count": null,
   "id": "942d2bd5",
   "metadata": {},
   "outputs": [
    {
     "name": "stdout",
     "output_type": "stream",
     "text": [
      "[5]\n"
     ]
    }
   ],
   "source": [
    "stack= []\n",
    "stack.append(5) # push\n",
    "stack.append(10) # pop\n",
    "stack.pop()\n",
    "print(stack)"
   ]
  },
  {
   "cell_type": "markdown",
   "id": "97b7a645",
   "metadata": {},
   "source": [
    "- Set\n",
    "\n",
    "1. for storing and searching unique elements in O(1)\n",
    "2. elements in set are immutable, however a set itself it mutable"
   ]
  },
  {
   "cell_type": "code",
   "execution_count": 22,
   "id": "68eefbad",
   "metadata": {},
   "outputs": [
    {
     "name": "stdout",
     "output_type": "stream",
     "text": [
      "{10, 1, 2, 3}\n",
      "True\n",
      "{1, 2, 3}\n"
     ]
    }
   ],
   "source": [
    "set= {1, 2, 3}\n",
    "\n",
    "set.add(10)\n",
    "print(set)\n",
    "print(10 in set)\n",
    "set.remove(10)\n",
    "print(set)"
   ]
  },
  {
   "cell_type": "code",
   "execution_count": null,
   "id": "e76e607d",
   "metadata": {},
   "outputs": [],
   "source": []
  },
  {
   "cell_type": "markdown",
   "id": "f5da7f66",
   "metadata": {},
   "source": [
    "### Miscellaneous concepts"
   ]
  },
  {
   "cell_type": "markdown",
   "id": "540b06cb",
   "metadata": {},
   "source": [
    "- to get the min and max value use \"sys.maxsize\" and \"-sys.maxsize-1\""
   ]
  },
  {
   "cell_type": "code",
   "execution_count": 1,
   "id": "0d5aa9c5",
   "metadata": {},
   "outputs": [
    {
     "name": "stdout",
     "output_type": "stream",
     "text": [
      "9223372036854775807\n",
      "-9223372036854775808\n"
     ]
    }
   ],
   "source": [
    "import sys\n",
    "print(sys.maxsize)\n",
    "print(-sys.maxsize-1)"
   ]
  }
 ],
 "metadata": {
  "kernelspec": {
   "display_name": "venv",
   "language": "python",
   "name": "python3"
  },
  "language_info": {
   "codemirror_mode": {
    "name": "ipython",
    "version": 3
   },
   "file_extension": ".py",
   "mimetype": "text/x-python",
   "name": "python",
   "nbconvert_exporter": "python",
   "pygments_lexer": "ipython3",
   "version": "3.12.3"
  }
 },
 "nbformat": 4,
 "nbformat_minor": 5
}
