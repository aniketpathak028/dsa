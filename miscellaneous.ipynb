{
 "cells": [
  {
   "cell_type": "markdown",
   "id": "e2d4ac61",
   "metadata": {},
   "source": [
    "# Miscellaneous\n",
    "\n",
    "\n",
    "contains extra algorithms"
   ]
  },
  {
   "cell_type": "markdown",
   "id": "8a366c1f",
   "metadata": {},
   "source": [
    "### 1. Meet in the Middle Algorithm"
   ]
  },
  {
   "cell_type": "code",
   "execution_count": null,
   "id": "5455026b",
   "metadata": {
    "vscode": {
     "languageId": "plaintext"
    }
   },
   "outputs": [],
   "source": []
  }
 ],
 "metadata": {
  "language_info": {
   "name": "python"
  }
 },
 "nbformat": 4,
 "nbformat_minor": 5
}
